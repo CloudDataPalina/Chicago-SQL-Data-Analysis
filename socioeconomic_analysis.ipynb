{
 "cells": [
  {
   "cell_type": "markdown",
   "id": "8a4cc5d3-78ed-4233-88ad-323a2e463d04",
   "metadata": {},
   "source": [
    "# Socioeconomic Analysis — Chicago Community Areas (SQL + SQLite)\n",
    "\n",
    "**Goal.** Show how to load and explore Chicago neighborhood socioeconomic data from scratch using SQL and a local SQLite database.\n",
    "\n",
    "**Key questions:**\n",
    "- How are per-capita income (*PER_CAPITA_INCOME_*) and the *HARDSHIP_INDEX* distributed across neighborhoods?\n",
    "- Which neighborhoods are in the worst condition (unemployment, poverty, education)?\n",
    "- Is there a simple relationship between income and hardship?\n",
    "\n",
    "**Data:**  \n",
    "Socioeconomic indicators for Chicago neighborhoods from the city’s open data portal:  \n",
    "[Chicago Data Portal – Socioeconomic Indicators](https://data.cityofchicago.org/Health-Human-Services/Socioeconomic-Indicators/jcxq-k9xf)\n",
    "\n",
    "**Key fields:**  \n",
    "`COMMUNITY_AREA_NUMBER`, `COMMUNITY_AREA_NAME`, `PER_CAPITA_INCOME_`, `HARDSHIP_INDEX`,  \n",
    "`PERCENT_HOUSEHOLDS_BELOW_POVERTY`, `PERCENT_AGED_16_UNEMPLOYED`,  \n",
    "`PERCENT_AGED_25__WITHOUT_HIGH_SCHOOL_DIPLOMA`, etc.\n",
    "\n",
    "**What’s inside the notebook:**\n",
    "1. Data loading and preparation (CSV → SQLite).\n",
    "2. Basic SQL analysis: descriptive stats, filtering, simple aggregates.\n",
    "3. Analytical queries: sorting, grouping, nested subqueries.\n",
    "4. Visualization: scatter plot of income vs. hardship index.\n",
    "\n",
    "> This notebook is part of a learning portfolio on SQL and data analytics.\n"
   ]
  },
  {
   "cell_type": "markdown",
   "id": "cc1f6d1c-2ca3-445f-8300-4a8d69bc5188",
   "metadata": {},
   "source": [
    "## 1. Environment Setup\n",
    "\n",
    "Import the necessary libraries and enable the **SQL magic** extension for Jupyter.  \n",
    "This will allow you to run SQL queries directly from notebook cells.\n"
   ]
  },
  {
   "cell_type": "code",
   "execution_count": 2,
   "id": "1b43a692-86ce-4866-b740-81bf2a33848a",
   "metadata": {},
   "outputs": [
    {
     "name": "stdout",
     "output_type": "stream",
     "text": [
      "The sql extension is already loaded. To reload it, use:\n",
      "  %reload_ext sql\n"
     ]
    }
   ],
   "source": [
    "# Install required extensions (if already installed, nothing changes):\n",
    "# - ipython-sql: run SQL directly in Jupyter with %sql magic\n",
    "# - prettytable: nicely formatted SQL query results as tables\n",
    "# - seaborn: for charts and visualizations\n",
    "#!pip install -q ipython-sql prettytable seaborn\n",
    "\n",
    "# Import necessary libraries\n",
    "import sqlite3\n",
    "import pandas as pd\n",
    "import prettytable\n",
    "import matplotlib.pyplot as plt\n",
    "import seaborn as sns\n",
    "\n",
    "# Configure prettytable for nicer output\n",
    "prettytable.DEFAULT = 'DEFAULT'\n",
    "\n",
    "# Load the SQL extension for Jupyter\n",
    "%load_ext sql\n"
   ]
  },
  {
   "cell_type": "markdown",
   "id": "06a06572-ded1-40eb-9405-4b09f67c3873",
   "metadata": {},
   "source": [
    "## 2. Creating and Connecting to the Local SQLite Database (pandas + sqlite3)\n",
    "\n",
    "First, create or open the database file **socioeconomic.db** using Python’s built-in `sqlite3` library.  \n",
    "Through the `con` object we can work with the database from Python (e.g., load data into it via `pandas.to_sql`),  \n",
    "and the `cur` object will allow us to execute administrative SQL commands directly.\n"
   ]
  },
  {
   "cell_type": "code",
   "execution_count": 3,
   "id": "588f4cc5-5a79-42be-ac84-a0c17b07eb63",
   "metadata": {},
   "outputs": [],
   "source": [
    "# Create (or open if it already exists) the local database socioeconomic.db\n",
    "con = sqlite3.connect(\"socioeconomic.db\")\n",
    "\n",
    "# Create a cursor to execute SQL commands directly\n",
    "cur = con.cursor()\n"
   ]
  },
  {
   "cell_type": "markdown",
   "id": "622e0b65-879d-488c-893f-2d2e41577d4c",
   "metadata": {},
   "source": [
    "## 3. Connecting `%sql` magic to the database\n",
    "\n",
    "To run SQL queries directly in Jupyter, we’ll link the `%sql` extension to our **socioeconomic.db** database.  \n",
    "This will let us write SQL commands in separate notebook cells and instantly see tabular results.\n"
   ]
  },
  {
   "cell_type": "code",
   "execution_count": 4,
   "id": "a61eadd7-79c5-495a-8f6c-0eb01cac98fd",
   "metadata": {},
   "outputs": [],
   "source": [
    "%sql sqlite:///socioeconomic.db\n"
   ]
  },
  {
   "cell_type": "markdown",
   "id": "1b8acf9e-8371-46ae-97d6-1c47d94b7130",
   "metadata": {},
   "source": [
    "## 4. Loading the dataset into a SQLite table\n",
    "\n",
    "Load Chicago’s socioeconomic data from `chicago_socioeconomic.csv`.  \n",
    "Using `pandas.read_csv`, we’ll read the CSV into a DataFrame and then store it in **socioeconomic.db**  \n",
    "under the name `chicago_socioeconomic_data`.\n",
    "\n",
    "Parameters:\n",
    "- `if_exists=\"replace\"` — overwrite the table if it already exists  \n",
    "- `index=False` — don’t save the pandas index as a column  \n",
    "- `method=\"multi\"` — optimize the insert by batching\n",
    "\n",
    "Finally, we’ll check the number of rows (expecting **78** records).\n"
   ]
  },
  {
   "cell_type": "code",
   "execution_count": 5,
   "id": "567f7320-0bae-4348-9a90-5ee0ee1012e2",
   "metadata": {},
   "outputs": [
    {
     "data": {
      "text/plain": [
       "78"
      ]
     },
     "execution_count": 5,
     "metadata": {},
     "output_type": "execute_result"
    }
   ],
   "source": [
    "# Source: https://data.cityofchicago.org/resource/jcxq-k9xf.csv\n",
    "df = pd.read_csv(\"data/chicago_socioeconomic.csv\")\n",
    "\n",
    "# Save the DataFrame into the SQLite table chicago_socioeconomic_data\n",
    "df.to_sql(\n",
    "    \"chicago_socioeconomic_data\",\n",
    "    con,\n",
    "    if_exists=\"replace\",\n",
    "    index=False,\n",
    "    method=\"multi\"\n",
    ")\n",
    "\n",
    "# Check the number of rows (should be 78)\n",
    "len(df)\n"
   ]
  },
  {
   "cell_type": "markdown",
   "id": "5a3fbdcf-d752-4f88-b820-bb16d4ac360d",
   "metadata": {},
   "source": [
    "## 5. Quick table content check\n",
    "\n",
    "Make sure the data has been successfully written into SQLite.  \n",
    "Run a simple SQL query to display the first 5 rows of the `chicago_socioeconomic_data` table.\n"
   ]
  },
  {
   "cell_type": "code",
   "execution_count": 6,
   "id": "68f4a984-31a5-419a-8981-03f7b370a304",
   "metadata": {},
   "outputs": [
    {
     "name": "stdout",
     "output_type": "stream",
     "text": [
      " * sqlite:///socioeconomic.db\n",
      "Done.\n"
     ]
    },
    {
     "data": {
      "text/html": [
       "<table>\n",
       "    <thead>\n",
       "        <tr>\n",
       "            <th>ca</th>\n",
       "            <th>community_area_name</th>\n",
       "            <th>percent_of_housing_crowded</th>\n",
       "            <th>percent_households_below_poverty</th>\n",
       "            <th>percent_aged_16_unemployed</th>\n",
       "            <th>percent_aged_25_without_high_school_diploma</th>\n",
       "            <th>percent_aged_under_18_or_over_64</th>\n",
       "            <th>per_capita_income_</th>\n",
       "            <th>hardship_index</th>\n",
       "        </tr>\n",
       "    </thead>\n",
       "    <tbody>\n",
       "        <tr>\n",
       "            <td>1.0</td>\n",
       "            <td>Rogers Park</td>\n",
       "            <td>7.7</td>\n",
       "            <td>23.6</td>\n",
       "            <td>8.7</td>\n",
       "            <td>18.2</td>\n",
       "            <td>27.5</td>\n",
       "            <td>23939</td>\n",
       "            <td>39.0</td>\n",
       "        </tr>\n",
       "        <tr>\n",
       "            <td>2.0</td>\n",
       "            <td>West Ridge</td>\n",
       "            <td>7.8</td>\n",
       "            <td>17.2</td>\n",
       "            <td>8.8</td>\n",
       "            <td>20.8</td>\n",
       "            <td>38.5</td>\n",
       "            <td>23040</td>\n",
       "            <td>46.0</td>\n",
       "        </tr>\n",
       "        <tr>\n",
       "            <td>3.0</td>\n",
       "            <td>Uptown</td>\n",
       "            <td>3.8</td>\n",
       "            <td>24.0</td>\n",
       "            <td>8.9</td>\n",
       "            <td>11.8</td>\n",
       "            <td>22.2</td>\n",
       "            <td>35787</td>\n",
       "            <td>20.0</td>\n",
       "        </tr>\n",
       "        <tr>\n",
       "            <td>4.0</td>\n",
       "            <td>Lincoln Square</td>\n",
       "            <td>3.4</td>\n",
       "            <td>10.9</td>\n",
       "            <td>8.2</td>\n",
       "            <td>13.4</td>\n",
       "            <td>25.5</td>\n",
       "            <td>37524</td>\n",
       "            <td>17.0</td>\n",
       "        </tr>\n",
       "        <tr>\n",
       "            <td>5.0</td>\n",
       "            <td>North Center</td>\n",
       "            <td>0.3</td>\n",
       "            <td>7.5</td>\n",
       "            <td>5.2</td>\n",
       "            <td>4.5</td>\n",
       "            <td>26.2</td>\n",
       "            <td>57123</td>\n",
       "            <td>6.0</td>\n",
       "        </tr>\n",
       "    </tbody>\n",
       "</table>"
      ],
      "text/plain": [
       "[(1.0, 'Rogers Park', 7.7, 23.6, 8.7, 18.2, 27.5, 23939, 39.0),\n",
       " (2.0, 'West Ridge', 7.8, 17.2, 8.8, 20.8, 38.5, 23040, 46.0),\n",
       " (3.0, 'Uptown', 3.8, 24.0, 8.9, 11.8, 22.2, 35787, 20.0),\n",
       " (4.0, 'Lincoln Square', 3.4, 10.9, 8.2, 13.4, 25.5, 37524, 17.0),\n",
       " (5.0, 'North Center', 0.3, 7.5, 5.2, 4.5, 26.2, 57123, 6.0)]"
      ]
     },
     "execution_count": 6,
     "metadata": {},
     "output_type": "execute_result"
    }
   ],
   "source": [
    "%sql SELECT * FROM chicago_socioeconomic_data LIMIT 5;\n"
   ]
  },
  {
   "cell_type": "markdown",
   "id": "8663be99-df3e-4f7d-971f-ae326ab6239d",
   "metadata": {},
   "source": [
    "## 6. Basic SQL Queries\n",
    "\n",
    "Let's start by answering a few simple questions about the data:  \n",
    "- How many rows does the table contain?  \n",
    "- How many community areas have a high `hardship_index`?  \n",
    "- What is the maximum value of the hardship index?  \n",
    "- Which community area is the most disadvantaged?  \n",
    "- Which areas stand out with high per capita income?  \n"
   ]
  },
  {
   "cell_type": "markdown",
   "id": "af2b9f3e-9274-4f95-b3fc-4710fc339c17",
   "metadata": {},
   "source": [
    " Determine how many rows (community areas) the table `chicago_socioeconomic_data` contains.\n"
   ]
  },
  {
   "cell_type": "code",
   "execution_count": 7,
   "id": "b041ea18-23fe-4d4a-bf2b-45bbb9b00f65",
   "metadata": {},
   "outputs": [
    {
     "name": "stdout",
     "output_type": "stream",
     "text": [
      " * sqlite:///socioeconomic.db\n",
      "Done.\n"
     ]
    },
    {
     "data": {
      "text/html": [
       "<table>\n",
       "    <thead>\n",
       "        <tr>\n",
       "            <th>COUNT(*)</th>\n",
       "        </tr>\n",
       "    </thead>\n",
       "    <tbody>\n",
       "        <tr>\n",
       "            <td>78</td>\n",
       "        </tr>\n",
       "    </tbody>\n",
       "</table>"
      ],
      "text/plain": [
       "[(78,)]"
      ]
     },
     "execution_count": 7,
     "metadata": {},
     "output_type": "execute_result"
    }
   ],
   "source": [
    "%sql SELECT COUNT(*) FROM chicago_socioeconomic_data;\n"
   ]
  },
  {
   "cell_type": "markdown",
   "id": "a200874d-e94e-4374-8213-c06bc3890591",
   "metadata": {},
   "source": [
    "👉 **Result:** 78 rows — meaning the dataset contains **78 community areas of Chicago**."
   ]
  },
  {
   "cell_type": "markdown",
   "id": "1cdce1cf-b852-45f3-8afd-1e2e2d25d419",
   "metadata": {},
   "source": [
    "Count how many community areas have a **Hardship Index** greater than 50.\n"
   ]
  },
  {
   "cell_type": "code",
   "execution_count": 11,
   "id": "0bc128fe-2773-4623-95b4-2336fcfa1e06",
   "metadata": {},
   "outputs": [
    {
     "name": "stdout",
     "output_type": "stream",
     "text": [
      " * sqlite:///socioeconomic.db\n",
      "Done.\n"
     ]
    },
    {
     "data": {
      "text/html": [
       "<table>\n",
       "    <thead>\n",
       "        <tr>\n",
       "            <th>COUNT(*)</th>\n",
       "        </tr>\n",
       "    </thead>\n",
       "    <tbody>\n",
       "        <tr>\n",
       "            <td>38</td>\n",
       "        </tr>\n",
       "    </tbody>\n",
       "</table>"
      ],
      "text/plain": [
       "[(38,)]"
      ]
     },
     "execution_count": 11,
     "metadata": {},
     "output_type": "execute_result"
    }
   ],
   "source": [
    "%sql SELECT COUNT(*) FROM chicago_socioeconomic_data WHERE hardship_index > 50.0;\n"
   ]
  },
  {
   "cell_type": "markdown",
   "id": "dbe93029-24c9-49ae-808a-156ff3cc111a",
   "metadata": {},
   "source": [
    "👉 **Result:** 38 community areas have a **Hardship Index** greater than 50."
   ]
  },
  {
   "cell_type": "markdown",
   "id": "f134d3d7-4be5-41e5-979f-2ec3a4063534",
   "metadata": {},
   "source": [
    "Find the maximum value of the Hardship Index (`hardship_index`).\n"
   ]
  },
  {
   "cell_type": "code",
   "execution_count": 8,
   "id": "eabb898b-2eae-43fb-9cf7-84470143522b",
   "metadata": {},
   "outputs": [
    {
     "name": "stdout",
     "output_type": "stream",
     "text": [
      " * sqlite:///socioeconomic.db\n",
      "Done.\n"
     ]
    },
    {
     "data": {
      "text/html": [
       "<table>\n",
       "    <thead>\n",
       "        <tr>\n",
       "            <th>MAX(hardship_index)</th>\n",
       "        </tr>\n",
       "    </thead>\n",
       "    <tbody>\n",
       "        <tr>\n",
       "            <td>98.0</td>\n",
       "        </tr>\n",
       "    </tbody>\n",
       "</table>"
      ],
      "text/plain": [
       "[(98.0,)]"
      ]
     },
     "execution_count": 8,
     "metadata": {},
     "output_type": "execute_result"
    }
   ],
   "source": [
    "%sql SELECT MAX(hardship_index) FROM chicago_socioeconomic_data;\n"
   ]
  },
  {
   "cell_type": "markdown",
   "id": "379ff888-b45d-4538-9504-473f52357b4d",
   "metadata": {},
   "source": [
    "👉 The result shows the highest Hardship Index level — **98** among all 78 community areas."
   ]
  },
  {
   "cell_type": "markdown",
   "id": "1085fa4e-ffbc-44c2-9e64-71af88d49c61",
   "metadata": {},
   "source": [
    " Determine which community area has the highest **Hardship Index**.\n"
   ]
  },
  {
   "cell_type": "code",
   "execution_count": 9,
   "id": "c4c11a8d-4531-473c-a4fc-1e8399847138",
   "metadata": {},
   "outputs": [
    {
     "name": "stdout",
     "output_type": "stream",
     "text": [
      " * sqlite:///socioeconomic.db\n",
      "Done.\n"
     ]
    },
    {
     "data": {
      "text/html": [
       "<table>\n",
       "    <thead>\n",
       "        <tr>\n",
       "            <th>community_area_name</th>\n",
       "        </tr>\n",
       "    </thead>\n",
       "    <tbody>\n",
       "        <tr>\n",
       "            <td>Riverdale</td>\n",
       "        </tr>\n",
       "    </tbody>\n",
       "</table>"
      ],
      "text/plain": [
       "[('Riverdale',)]"
      ]
     },
     "execution_count": 9,
     "metadata": {},
     "output_type": "execute_result"
    }
   ],
   "source": [
    "%%sql SELECT community_area_name \n",
    "FROM chicago_socioeconomic_data \n",
    "WHERE hardship_index = ( \n",
    "    SELECT MAX(hardship_index) \n",
    "    FROM chicago_socioeconomic_data \n",
    ");\n"
   ]
  },
  {
   "cell_type": "markdown",
   "id": "aa202461-6284-431e-b765-aff43660cbff",
   "metadata": {},
   "source": [
    "👉 Result: **Riverdale** is the community area with the highest Hardship Index."
   ]
  },
  {
   "cell_type": "markdown",
   "id": "a151d4ae-1019-4375-a99e-175153a67ace",
   "metadata": {},
   "source": [
    "Find the community areas where **per_capita_income_** exceeds 60,000.\n"
   ]
  },
  {
   "cell_type": "code",
   "execution_count": 10,
   "id": "b24f9e09-1830-4a6a-8fa1-dffbc00a2c5e",
   "metadata": {},
   "outputs": [
    {
     "name": "stdout",
     "output_type": "stream",
     "text": [
      " * sqlite:///socioeconomic.db\n",
      "Done.\n"
     ]
    },
    {
     "data": {
      "text/html": [
       "<table>\n",
       "    <thead>\n",
       "        <tr>\n",
       "            <th>community_area_name</th>\n",
       "        </tr>\n",
       "    </thead>\n",
       "    <tbody>\n",
       "        <tr>\n",
       "            <td>Near North Side</td>\n",
       "        </tr>\n",
       "        <tr>\n",
       "            <td>Lincoln Park</td>\n",
       "        </tr>\n",
       "        <tr>\n",
       "            <td>Loop</td>\n",
       "        </tr>\n",
       "        <tr>\n",
       "            <td>Lake View</td>\n",
       "        </tr>\n",
       "    </tbody>\n",
       "</table>"
      ],
      "text/plain": [
       "[('Near North Side',), ('Lincoln Park',), ('Loop',), ('Lake View',)]"
      ]
     },
     "execution_count": 10,
     "metadata": {},
     "output_type": "execute_result"
    }
   ],
   "source": [
    "%%sql SELECT community_area_name \n",
    "FROM chicago_socioeconomic_data \n",
    "WHERE per_capita_income_ > 60000 \n",
    "ORDER BY per_capita_income_ DESC;\n"
   ]
  },
  {
   "cell_type": "markdown",
   "id": "be5a1852-71f9-4676-83b9-b7567a34640a",
   "metadata": {},
   "source": [
    "👉 **Result:** the list of the most affluent Chicago community areas: **Near North Side, Lincoln Park, Loop, Lake View**.\n"
   ]
  },
  {
   "cell_type": "markdown",
   "id": "50498aba-3f10-4678-9bfa-6ac3a4f20665",
   "metadata": {},
   "source": [
    "## 7. Analysis: Relationship Between Income and Hardship Index\n",
    "\n",
    "For clarity, let's build a **scatter plot** of `per_capita_income_` (per capita income) vs. `hardship_index` (hardship index).  \n",
    "\n",
    "The chart also shows the distributions along each axis. Each point represents one **Chicago community area**.\n"
   ]
  },
  {
   "cell_type": "code",
   "execution_count": 11,
   "id": "6ffd61f8-cec8-46e1-86bf-cebb8b197968",
   "metadata": {},
   "outputs": [
    {
     "name": "stdout",
     "output_type": "stream",
     "text": [
      " * sqlite:///socioeconomic.db\n",
      "Done.\n"
     ]
    },
    {
     "data": {
      "image/png": "[encoded data removed]",
      "text/plain": [
       "<Figure size 700x700 with 3 Axes>"
      ]
     },
     "metadata": {},
     "output_type": "display_data"
    }
   ],
   "source": [
    "# Load data from SQLite directly into a pandas DataFrame\n",
    "income_vs_hardship = %sql SELECT per_capita_income_, hardship_index FROM chicago_socioeconomic_data;\n",
    "\n",
    "df_plot = income_vs_hardship.DataFrame()\n",
    "\n",
    "# Build a scatter plot with histograms along each axis\n",
    "plot = sns.jointplot(\n",
    "    x='per_capita_income_', \n",
    "    y='hardship_index',\n",
    "    data=df_plot,\n",
    "    kind=\"scatter\",\n",
    "    height=7,\n",
    "    space=0.3,\n",
    "    color=\"royalblue\"\n",
    ")\n",
    "\n",
    "# Add title\n",
    "plt.suptitle(\"Per Capita Income vs Hardship Index\\nChicago Community Areas\", fontsize=14)\n",
    "plt.subplots_adjust(top=0.92)  # move title a bit higher\n",
    "\n",
    "# Save the plot as SVG before showing it\n",
    "plt.savefig(\"images/income_vs_hardship.svg\")\n",
    "\n",
    "plt.show()\n"
   ]
  },
  {
   "cell_type": "markdown",
   "id": "4c673e36-9c57-47ff-9d20-098f701e7f37",
   "metadata": {},
   "source": [
    "### Insights from the Plot\n",
    "\n",
    "- There is a **negative correlation** between per capita income and the hardship index.  \n",
    "- At low income levels (10–20K), the hardship index is almost always high (70–100).  \n",
    "- When income rises above 40K, the hardship index drops sharply (<20).  \n",
    "- The few neighborhoods with incomes of 60–90K almost do not experience social hardship.  \n",
    "\n",
    "## Conclusion  \n",
    "\n",
    "This analysis used data from 78 Chicago community areas.  \n",
    "It shows that **the higher the income, the fewer social hardships**.  \n",
    "Low-income neighborhoods are high-hardship zones, while affluent ones have minimal problems.\n"
   ]
  },
  {
   "cell_type": "code",
   "execution_count": null,
   "id": "befc872d-7cfb-4648-9816-b03d8e8c8354",
   "metadata": {},
   "outputs": [],
   "source": []
  }
 ],
 "metadata": {
  "kernelspec": {
   "display_name": "Python 3 (ipykernel)",
   "language": "python",
   "name": "python3"
  },
  "language_info": {
   "codemirror_mode": {
    "name": "ipython",
    "version": 3
   },
   "file_extension": ".py",
   "mimetype": "text/x-python",
   "name": "python",
   "nbconvert_exporter": "python",
   "pygments_lexer": "ipython3",
   "version": "3.12.7"
  }
 },
 "nbformat": 4,
 "nbformat_minor": 5
}

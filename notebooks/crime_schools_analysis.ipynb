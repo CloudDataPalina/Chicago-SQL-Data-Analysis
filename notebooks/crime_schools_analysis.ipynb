{
 "cells": [
  {
   "cell_type": "markdown",
   "id": "4a77cc5d-4dbd-4b10-b0e7-962d5437867c",
   "metadata": {},
   "source": [
    "# Crime & Schools Analysis in Chicago (SQL + SQLite)\n",
    "\n",
    "**Goal:**  \n",
    "Explore the relationship between crime levels and school characteristics in Chicago using SQL and a local SQLite database.\n",
    "\n",
    "**Key questions:**\n",
    "- Which neighborhoods have the highest number of crimes?  \n",
    "- How do school indicators (ratings, academic performance, environment) correlate with the crime level in the area?\n",
    "\n",
    "**Data:**  \n",
    "- `chicago_crime_data` — records of crimes in Chicago.  \n",
    "- `chicago_public_schools` — data on Chicago public schools.  \n",
    "- Common join key: `COMMUNITY_AREA_NUMBER`.\n",
    "\n",
    "**Notebook contents:**\n",
    "1. Connecting to the `socioeconomic.db` database.  \n",
    "2. Loading/updating crime and school tables (CSV → SQLite).  \n",
    "3. Basic SQL analysis for each table.  \n",
    "4. JOIN queries (crime × schools).  \n",
    "5. Visualization and conclusions.\n"
   ]
  },
  {
   "cell_type": "markdown",
   "id": "a78ae3d5-5806-448a-8d36-0eb24d3dda9e",
   "metadata": {},
   "source": [
    "## 1. Environment Setup\n",
    "\n",
    "Import the necessary libraries and enable the **SQL magic** extension for Jupyter.  \n",
    "This allows you to run SQL queries directly inside notebook cells.\n"
   ]
  },
  {
   "cell_type": "code",
   "execution_count": 33,
   "id": "c70f718a-ad83-4076-9d73-479317a6206b",
   "metadata": {},
   "outputs": [
    {
     "name": "stdout",
     "output_type": "stream",
     "text": [
      "The sql extension is already loaded. To reload it, use:\n",
      "  %reload_ext sql\n"
     ]
    }
   ],
   "source": [
    "# Import libraries\n",
    "import sqlite3\n",
    "import pandas as pd\n",
    "import prettytable\n",
    "import matplotlib.pyplot as plt\n",
    "import seaborn as sns\n",
    "\n",
    "# Configure prettytable for nicer output\n",
    "prettytable.DEFAULT = 'DEFAULT'\n",
    "\n",
    "# Enable SQL magic in Jupyter\n",
    "%load_ext sql\n"
   ]
  },
  {
   "cell_type": "markdown",
   "id": "cf8dac08-ac9d-45c4-a1e5-513ce4229564",
   "metadata": {},
   "source": [
    "## 2. Creating or Connecting to the Database\n",
    "\n",
    "We will use the same **socioeconomic.db** database so that all data (socio-economic indicators, crimes, and schools) is stored in one place.  \n",
    "This setup makes it possible to run more complex queries with table joins (JOIN).\n"
   ]
  },
  {
   "cell_type": "code",
   "execution_count": 34,
   "id": "36a28e84-ca7d-4fea-aeba-0e8cb4bf9450",
   "metadata": {},
   "outputs": [],
   "source": [
    "# Create or connect to the database\n",
    "con = sqlite3.connect(\"../socioeconomic.db\")\n",
    "cur = con.cursor()\n"
   ]
  },
  {
   "cell_type": "markdown",
   "id": "5dbe9176-8fd0-4d9a-9b3a-3e877dcde349",
   "metadata": {},
   "source": [
    "## 3. Loading data into tables\n",
    "\n",
    "We will add three datasets to the **socioeconomic.db** database:  \n",
    "\n",
    "- **CHICAGO_CENSUS_DATA** — census data;  \n",
    "- **CHICAGO_PUBLIC_SCHOOLS** — public school performance data;  \n",
    "- **CHICAGO_CRIME_DATA** — crime records.  \n",
    "\n",
    "Before saving, we will do some light preparation:  \n",
    "- replace spaces in column names with `_`,  \n",
    "- save the data to SQLite using `to_sql`.  \n"
   ]
  },
  {
   "cell_type": "code",
   "execution_count": 36,
   "id": "e05264eb-b066-4df5-944a-c2fd9573388a",
   "metadata": {},
   "outputs": [
    {
     "data": {
      "text/plain": [
       "533"
      ]
     },
     "execution_count": 36,
     "metadata": {},
     "output_type": "execute_result"
    }
   ],
   "source": [
    "### Loading the data into SQLite\n",
    "# Census data\n",
    "df = pd.read_csv(\"../data/ChicagoCensusData.csv\")\n",
    "df.columns = df.columns.str.replace(\" \", \"_\")\n",
    "df.to_sql(\"CHICAGO_CENSUS_DATA\", con, if_exists=\"replace\", index=False, method=\"multi\")\n",
    "\n",
    "# Public school data\n",
    "df = pd.read_csv(\"../data/ChicagoPublicSchools.csv\")\n",
    "df.columns = df.columns.str.replace(\" \", \"_\")\n",
    "df.to_sql(\"CHICAGO_PUBLIC_SCHOOLS\", con, if_exists=\"replace\", index=False, method=\"multi\")\n",
    "\n",
    "# Crime data\n",
    "df = pd.read_csv(\"../data/ChicagoCrimeData.csv\")\n",
    "df.columns = df.columns.str.replace(\" \", \"_\")\n",
    "df.to_sql(\"CHICAGO_CRIME_DATA\", con, if_exists=\"replace\", index=False, method=\"multi\")\n",
    "\n"
   ]
  },
  {
   "cell_type": "markdown",
   "id": "62728f2a-c87e-4af9-aa55-aa25a62e8590",
   "metadata": {},
   "source": [
    "## 4. Connecting SQL magic to the database\n",
    "\n",
    "Now let’s connect SQL magic to our **socioeconomic.db** database so that we can run SQL queries directly from notebook cells.\n"
   ]
  },
  {
   "cell_type": "code",
   "execution_count": 18,
   "id": "4a9ebe0f-55b4-4b01-a11a-295b0743cfac",
   "metadata": {},
   "outputs": [],
   "source": [
    "%sql sqlite:///../socioeconomic.db\n"
   ]
  },
  {
   "cell_type": "markdown",
   "id": "ddb4eb0c-7905-47b5-9596-5f67996084de",
   "metadata": {},
   "source": [
    "### 4.1. How many crimes are there?\n",
    "\n",
    "First, let’s check the total number of records in the **CHICAGO_CRIME_DATA** table to understand the size of the crime dataset.\n"
   ]
  },
  {
   "cell_type": "code",
   "execution_count": 19,
   "id": "2a082037-836f-43c7-88f9-766770dae833",
   "metadata": {},
   "outputs": [
    {
     "name": "stdout",
     "output_type": "stream",
     "text": [
      " * sqlite:///socioeconomic.db\n",
      "Done.\n"
     ]
    },
    {
     "data": {
      "text/html": [
       "<table>\n",
       "    <thead>\n",
       "        <tr>\n",
       "            <th>COUNT(*)</th>\n",
       "        </tr>\n",
       "    </thead>\n",
       "    <tbody>\n",
       "        <tr>\n",
       "            <td>533</td>\n",
       "        </tr>\n",
       "    </tbody>\n",
       "</table>"
      ],
      "text/plain": [
       "[(533,)]"
      ]
     },
     "execution_count": 19,
     "metadata": {},
     "output_type": "execute_result"
    }
   ],
   "source": [
    "%sql SELECT COUNT(*) FROM CHICAGO_CRIME_DATA;\n"
   ]
  },
  {
   "cell_type": "markdown",
   "id": "cd5700af-b75c-4072-859f-510a8c78e4b0",
   "metadata": {},
   "source": [
    "👉 The dataset contains **533 crime cases (records)**."
   ]
  },
  {
   "cell_type": "markdown",
   "id": "cc64617b-a3f3-45d8-a9c7-c3baf805acc2",
   "metadata": {},
   "source": [
    "### 4.2. Top 5 Neighborhoods by Poverty  \n",
    "\n",
    "Query the Chicago neighborhoods with the highest percentage of households living below the poverty line:"
   ]
  },
  {
   "cell_type": "code",
   "execution_count": 20,
   "id": "19f271c8-8dd2-4a0f-805e-188e421beec2",
   "metadata": {},
   "outputs": [
    {
     "name": "stdout",
     "output_type": "stream",
     "text": [
      " * sqlite:///socioeconomic.db\n",
      "Done.\n"
     ]
    },
    {
     "data": {
      "text/html": [
       "<table>\n",
       "    <thead>\n",
       "        <tr>\n",
       "            <th>COMMUNITY_AREA_NAME</th>\n",
       "        </tr>\n",
       "    </thead>\n",
       "    <tbody>\n",
       "        <tr>\n",
       "            <td>Riverdale</td>\n",
       "        </tr>\n",
       "        <tr>\n",
       "            <td>Fuller Park</td>\n",
       "        </tr>\n",
       "        <tr>\n",
       "            <td>Englewood</td>\n",
       "        </tr>\n",
       "        <tr>\n",
       "            <td>North Lawndale</td>\n",
       "        </tr>\n",
       "        <tr>\n",
       "            <td>East Garfield Park</td>\n",
       "        </tr>\n",
       "    </tbody>\n",
       "</table>"
      ],
      "text/plain": [
       "[('Riverdale',),\n",
       " ('Fuller Park',),\n",
       " ('Englewood',),\n",
       " ('North Lawndale',),\n",
       " ('East Garfield Park',)]"
      ]
     },
     "execution_count": 20,
     "metadata": {},
     "output_type": "execute_result"
    }
   ],
   "source": [
    "%%sql\n",
    "SELECT COMMUNITY_AREA_NAME\n",
    "FROM CHICAGO_CENSUS_DATA\n",
    "ORDER BY PERCENT_HOUSEHOLDS_BELOW_POVERTY DESC\n",
    "LIMIT 5;\n"
   ]
  },
  {
   "cell_type": "markdown",
   "id": "f0c7b50c-5cfd-4174-bd66-f39f7257aca1",
   "metadata": {},
   "source": [
    "The **Top 5 Chicago neighborhoods** with the highest percentage of households living below the poverty line are:  \n",
    "\n",
    "- **Riverdale**  \n",
    "- **Fuller Park**  \n",
    "- **Englewood**  \n",
    "- **North Lawndale**  \n",
    "- **East Garfield Park**  \n",
    "\n",
    "These areas are the most socio-economically vulnerable.  \n",
    "High poverty levels here are directly linked to other issues such as:  \n",
    "- low per-capita income,  \n",
    "- high unemployment rates,  \n",
    "- a high *Hardship Index*.  \n",
    "\n",
    "👉 Therefore, these neighborhoods face the greatest difficulties and should be prioritized for social and economic support programs.\n"
   ]
  },
  {
   "cell_type": "markdown",
   "id": "87997235-323b-4fea-9def-5a4de7140404",
   "metadata": {},
   "source": [
    "### 4.3. Neighborhood with the Highest Hardship Index  \n",
    "\n",
    "Let's identify the Chicago neighborhood with the **highest Hardship Index** (the indicator of socio-economic distress).  \n"
   ]
  },
  {
   "cell_type": "code",
   "execution_count": 21,
   "id": "0232494c-7d28-4968-b8ae-2eab8bb92460",
   "metadata": {},
   "outputs": [
    {
     "name": "stdout",
     "output_type": "stream",
     "text": [
      " * sqlite:///socioeconomic.db\n",
      "Done.\n"
     ]
    },
    {
     "data": {
      "text/html": [
       "<table>\n",
       "    <thead>\n",
       "        <tr>\n",
       "            <th>COMMUNITY_AREA_NAME</th>\n",
       "        </tr>\n",
       "    </thead>\n",
       "    <tbody>\n",
       "        <tr>\n",
       "            <td>Riverdale</td>\n",
       "        </tr>\n",
       "    </tbody>\n",
       "</table>"
      ],
      "text/plain": [
       "[('Riverdale',)]"
      ]
     },
     "execution_count": 21,
     "metadata": {},
     "output_type": "execute_result"
    }
   ],
   "source": [
    "%%sql SELECT COMMUNITY_AREA_NAME \n",
    "FROM CHICAGO_CENSUS_DATA \n",
    "ORDER BY HARDSHIP_INDEX DESC \n",
    "LIMIT 1;\n"
   ]
  },
  {
   "cell_type": "markdown",
   "id": "299295b0-dfc6-479f-bbcc-abf1602ea30f",
   "metadata": {},
   "source": [
    "The neighborhood with the highest **Hardship Index** is **Riverdale**.  \n",
    "This index reflects a combination of unfavorable factors such as low income, high poverty and unemployment rates, and low education levels.  \n",
    "\n",
    "👉 The fact that **Riverdale** ranks first indicates the most challenging socio-economic conditions among all Chicago neighborhoods.  \n"
   ]
  },
  {
   "cell_type": "markdown",
   "id": "80a96f09-25b5-4cd6-b25f-6948b5c2fe3a",
   "metadata": {},
   "source": [
    "### 4.4. Name of the Neighborhood with the Highest Number of Crimes  \n",
    "\n",
    "Now let's identify the name of the neighborhood with the highest number of recorded crimes.  \n",
    "To do this, we’ll join the crime data with the census data using the community area number.  \n"
   ]
  },
  {
   "cell_type": "code",
   "execution_count": 22,
   "id": "fdfa1d15-3580-41e0-a915-e798d87d9130",
   "metadata": {},
   "outputs": [
    {
     "name": "stdout",
     "output_type": "stream",
     "text": [
      " * sqlite:///socioeconomic.db\n",
      "Done.\n"
     ]
    },
    {
     "data": {
      "text/html": [
       "<table>\n",
       "    <thead>\n",
       "        <tr>\n",
       "            <th>COMMUNITY_AREA_NAME</th>\n",
       "            <th>crime_count</th>\n",
       "        </tr>\n",
       "    </thead>\n",
       "    <tbody>\n",
       "        <tr>\n",
       "            <td>Austin</td>\n",
       "            <td>43</td>\n",
       "        </tr>\n",
       "    </tbody>\n",
       "</table>"
      ],
      "text/plain": [
       "[('Austin', 43)]"
      ]
     },
     "execution_count": 22,
     "metadata": {},
     "output_type": "execute_result"
    }
   ],
   "source": [
    "%%sql\n",
    "SELECT ccd.COMMUNITY_AREA_NAME,\n",
    "       COUNT(*) AS crime_count\n",
    "FROM CHICAGO_CRIME_DATA AS cr\n",
    "JOIN CHICAGO_CENSUS_DATA AS ccd\n",
    "  ON cr.COMMUNITY_AREA_NUMBER = ccd.COMMUNITY_AREA_NUMBER\n",
    "GROUP BY ccd.COMMUNITY_AREA_NAME\n",
    "ORDER BY crime_count DESC\n",
    "LIMIT 1;\n"
   ]
  },
  {
   "cell_type": "markdown",
   "id": "d4d57af6-7615-4e8e-b73d-a42a62d6c0e7",
   "metadata": {},
   "source": [
    "The neighborhood with the highest number of crimes is **Austin**.  \n",
    "\n",
    "High criminal activity here goes hand in hand with adverse social factors:  \n",
    "- high poverty rates,  \n",
    "- low income levels,  \n",
    "- and a high *Hardship Index*.  \n",
    "\n",
    "👉 **Austin** is a key risk zone requiring priority attention and comprehensive measures to improve both the social and crime situation.  \n"
   ]
  },
  {
   "cell_type": "markdown",
   "id": "91df4d0a-e35e-4926-bfe6-3835d1f3a3df",
   "metadata": {},
   "source": [
    "### 4.5. Schools in Neighborhoods with the Highest Hardship Index  \n",
    "\n",
    "Let’s see how social difficulties (high *Hardship Index*) affect school attendance.  \n",
    "To do this, we join the **CHICAGO_PUBLIC_SCHOOLS** and **CHICAGO_CENSUS_DATA** tables by the community area number.  "
   ]
  },
  {
   "cell_type": "code",
   "execution_count": 23,
   "id": "ec89d151-612b-4a05-81aa-f83ef32b83d8",
   "metadata": {},
   "outputs": [
    {
     "name": "stdout",
     "output_type": "stream",
     "text": [
      " * sqlite:///socioeconomic.db\n",
      "Done.\n"
     ]
    },
    {
     "data": {
      "text/html": [
       "<table>\n",
       "    <thead>\n",
       "        <tr>\n",
       "            <th>NAME_OF_SCHOOL</th>\n",
       "            <th>COMMUNITY_AREA_NAME</th>\n",
       "            <th>AVERAGE_STUDENT_ATTENDANCE</th>\n",
       "            <th>HARDSHIP_INDEX</th>\n",
       "        </tr>\n",
       "    </thead>\n",
       "    <tbody>\n",
       "        <tr>\n",
       "            <td>George Washington Carver Military Academy High School</td>\n",
       "            <td>RIVERDALE</td>\n",
       "            <td>91.60%</td>\n",
       "            <td>98.0</td>\n",
       "        </tr>\n",
       "        <tr>\n",
       "            <td>George Washington Carver Primary School</td>\n",
       "            <td>RIVERDALE</td>\n",
       "            <td>90.90%</td>\n",
       "            <td>98.0</td>\n",
       "        </tr>\n",
       "        <tr>\n",
       "            <td>Ira F Aldridge Elementary School</td>\n",
       "            <td>RIVERDALE</td>\n",
       "            <td>92.90%</td>\n",
       "            <td>98.0</td>\n",
       "        </tr>\n",
       "        <tr>\n",
       "            <td>William E B Dubois Elementary School</td>\n",
       "            <td>RIVERDALE</td>\n",
       "            <td>93.30%</td>\n",
       "            <td>98.0</td>\n",
       "        </tr>\n",
       "    </tbody>\n",
       "</table>"
      ],
      "text/plain": [
       "[('George Washington Carver Military Academy High School', 'RIVERDALE', '91.60%', 98.0),\n",
       " ('George Washington Carver Primary School', 'RIVERDALE', '90.90%', 98.0),\n",
       " ('Ira F Aldridge Elementary School', 'RIVERDALE', '92.90%', 98.0),\n",
       " ('William E B Dubois Elementary School', 'RIVERDALE', '93.30%', 98.0)]"
      ]
     },
     "execution_count": 23,
     "metadata": {},
     "output_type": "execute_result"
    }
   ],
   "source": [
    "%%sql SELECT C.NAME_OF_SCHOOL,\n",
    "           C.COMMUNITY_AREA_NAME,\n",
    "           C.AVERAGE_STUDENT_ATTENDANCE,\n",
    "           CS.HARDSHIP_INDEX\n",
    "FROM CHICAGO_PUBLIC_SCHOOLS AS C\n",
    "JOIN CHICAGO_CENSUS_DATA AS CS\n",
    "  ON C.COMMUNITY_AREA_NUMBER = CS.COMMUNITY_AREA_NUMBER\n",
    "WHERE CS.HARDSHIP_INDEX = (SELECT MAX(HARDSHIP_INDEX) FROM CHICAGO_CENSUS_DATA);\n"
   ]
  },
  {
   "cell_type": "markdown",
   "id": "a610af09-7efd-49e5-ac3d-ead754477ec4",
   "metadata": {},
   "source": [
    "The query selects schools located in the neighborhood with the highest Hardship Index (**98**) — **Riverdale**.  \n",
    "Four schools appear in the result:\n",
    "\n",
    "- **George Washington Carver Military Academy High School** — attendance 91.6%  \n",
    "- **George Washington Carver Primary School** — attendance 90.9%  \n",
    "- **Ira F Aldridge Elementary School** — attendance 92.9%  \n",
    "- **William E B Dubois Elementary School** — attendance 93.3%  \n",
    "\n",
    "Despite the extremely high level of socio-economic hardship (*Hardship Index = 98*), school attendance remains quite high — from about 91% to 93%.\n",
    "\n",
    "👉 This may suggest that:  \n",
    "- school education in Riverdale is seen as an important way out of poverty;  \n",
    "- the education system maintains high compulsory attendance even in disadvantaged areas;  \n",
    "- however, behind these numbers there may be hidden issues of education quality (lack of resources, low safety, etc.) that are not directly reflected in the attendance figures.  \n"
   ]
  },
  {
   "cell_type": "markdown",
   "id": "8b8e7de7-7ba4-4bcc-bbd1-f64dce8a2bb0",
   "metadata": {},
   "source": [
    "### 4.6. Top-10 Neighborhoods by Number of Crimes Near Schools  \n",
    "\n",
    "Let's find out which Chicago neighborhoods have recorded the highest number of crimes committed **on school grounds or nearby**.  \n",
    "We’ll filter by `LOCATION_DESCRIPTION` and group by neighborhood.  \n"
   ]
  },
  {
   "cell_type": "code",
   "execution_count": 24,
   "id": "a6b87df5-fe9b-44bd-b52b-7e8bec45b68c",
   "metadata": {},
   "outputs": [
    {
     "name": "stdout",
     "output_type": "stream",
     "text": [
      " * sqlite:///socioeconomic.db\n",
      "Done.\n"
     ]
    },
    {
     "data": {
      "text/html": [
       "<table>\n",
       "    <thead>\n",
       "        <tr>\n",
       "            <th>COMMUNITY_AREA_NAME</th>\n",
       "            <th>school_crimes</th>\n",
       "        </tr>\n",
       "    </thead>\n",
       "    <tbody>\n",
       "        <tr>\n",
       "            <td>AUSTIN</td>\n",
       "            <td>46</td>\n",
       "        </tr>\n",
       "        <tr>\n",
       "            <td>ASHBURN</td>\n",
       "            <td>16</td>\n",
       "        </tr>\n",
       "        <tr>\n",
       "            <td>EAST GARFIELD PARK</td>\n",
       "            <td>13</td>\n",
       "        </tr>\n",
       "        <tr>\n",
       "            <td>DOUGLAS</td>\n",
       "            <td>11</td>\n",
       "        </tr>\n",
       "        <tr>\n",
       "            <td>SOUTH SHORE</td>\n",
       "            <td>9</td>\n",
       "        </tr>\n",
       "        <tr>\n",
       "            <td>BRIGHTON PARK</td>\n",
       "            <td>8</td>\n",
       "        </tr>\n",
       "        <tr>\n",
       "            <td>ROGERS PARK</td>\n",
       "            <td>6</td>\n",
       "        </tr>\n",
       "        <tr>\n",
       "            <td>LINCOLN SQUARE</td>\n",
       "            <td>5</td>\n",
       "        </tr>\n",
       "    </tbody>\n",
       "</table>"
      ],
      "text/plain": [
       "[('AUSTIN', 46),\n",
       " ('ASHBURN', 16),\n",
       " ('EAST GARFIELD PARK', 13),\n",
       " ('DOUGLAS', 11),\n",
       " ('SOUTH SHORE', 9),\n",
       " ('BRIGHTON PARK', 8),\n",
       " ('ROGERS PARK', 6),\n",
       " ('LINCOLN SQUARE', 5)]"
      ]
     },
     "execution_count": 24,
     "metadata": {},
     "output_type": "execute_result"
    }
   ],
   "source": [
    "%%sql SELECT C.COMMUNITY_AREA_NAME, \n",
    "       COUNT(CH.CASE_NUMBER) AS school_crimes \n",
    "FROM CHICAGO_PUBLIC_SCHOOLS AS C \n",
    "JOIN CHICAGO_CRIME_DATA AS CH \n",
    "  ON C.COMMUNITY_AREA_NUMBER = CH.COMMUNITY_AREA_NUMBER \n",
    "WHERE CH.LOCATION_DESCRIPTION LIKE '%SCHOOL%' \n",
    "GROUP BY C.COMMUNITY_AREA_NAME \n",
    "ORDER BY school_crimes DESC \n",
    "LIMIT 10;\n"
   ]
  },
  {
   "cell_type": "markdown",
   "id": "ca530502-b5e0-4703-a26b-388296738bab",
   "metadata": {},
   "source": [
    "The query counts the number of crimes committed **near schools**  \n",
    "(`LOCATION_DESCRIPTION LIKE '%SCHOOL%'`) and outputs the **top 10 neighborhoods**:\n",
    "\n",
    "- **Austin** — 46 crimes  \n",
    "- **Ashburn** — 16  \n",
    "- **East Garfield Park** — 13  \n",
    "- **Douglas** — 11  \n",
    "- **South Shore** — 9  \n",
    "- **Brighton Park** — 8  \n",
    "- **Rogers Park** — 6  \n",
    "- **Lincoln Square** — 5  \n",
    "\n",
    "👉 **Key takeaways:**  \n",
    "- **Austin** stands out sharply: crimes near schools here are almost **3× higher** than in the second-place neighborhood (**Ashburn**).  \n",
    "- Other areas show much lower values, indicating that school-related crime is concentrated in specific locations.  \n",
    "- This situation may point to serious **safety issues** around schools in **Austin**: high criminal activity near educational institutions threatens not only students but the community as a whole.  \n",
    "\n",
    "These data can be used to design **targeted measures to strengthen school security** in the most vulnerable neighborhoods.\n"
   ]
  },
  {
   "cell_type": "markdown",
   "id": "8b932856-4f15-4c41-9e73-4c689ba170e4",
   "metadata": {},
   "source": [
    "### 4.7. Most problematic neighborhoods: high crime + low school attendance  \n",
    "\n",
    "Now let's identify neighborhoods where **two risk factors** coincide:  \n",
    "- **High crime rate**,  \n",
    "- **Low school attendance**.  \n",
    "\n",
    "To do this, we join the tables **CHICAGO_CRIME_DATA**, **CHICAGO_PUBLIC_SCHOOLS**, and **CHICAGO_CENSUS_DATA**.  \n",
    "We count the number of crimes per neighborhood and compare it with the **average school attendance**.\n"
   ]
  },
  {
   "cell_type": "code",
   "execution_count": 25,
   "id": "1d72ed40-db3f-49cb-9b51-268322e38c37",
   "metadata": {},
   "outputs": [
    {
     "name": "stdout",
     "output_type": "stream",
     "text": [
      " * sqlite:///socioeconomic.db\n",
      "Done.\n"
     ]
    },
    {
     "data": {
      "text/html": [
       "<table>\n",
       "    <thead>\n",
       "        <tr>\n",
       "            <th>COMMUNITY_AREA_NAME</th>\n",
       "            <th>total_crimes</th>\n",
       "            <th>avg_attendance</th>\n",
       "        </tr>\n",
       "    </thead>\n",
       "    <tbody>\n",
       "        <tr>\n",
       "            <td>Austin</td>\n",
       "            <td>989</td>\n",
       "            <td>89.73</td>\n",
       "        </tr>\n",
       "        <tr>\n",
       "            <td>Englewood</td>\n",
       "            <td>357</td>\n",
       "            <td>89.45</td>\n",
       "        </tr>\n",
       "        <tr>\n",
       "            <td>West Englewood</td>\n",
       "            <td>156</td>\n",
       "            <td>89.99</td>\n",
       "        </tr>\n",
       "        <tr>\n",
       "            <td>East Garfield Park</td>\n",
       "            <td>104</td>\n",
       "            <td>89.74</td>\n",
       "        </tr>\n",
       "        <tr>\n",
       "            <td>Woodlawn</td>\n",
       "            <td>64</td>\n",
       "            <td>89.39</td>\n",
       "        </tr>\n",
       "        <tr>\n",
       "            <td>Douglas</td>\n",
       "            <td>55</td>\n",
       "            <td>89.14</td>\n",
       "        </tr>\n",
       "        <tr>\n",
       "            <td>Pullman</td>\n",
       "            <td>15</td>\n",
       "            <td>89.32</td>\n",
       "        </tr>\n",
       "        <tr>\n",
       "            <td>West Elsdon</td>\n",
       "            <td>12</td>\n",
       "            <td>89.83</td>\n",
       "        </tr>\n",
       "        <tr>\n",
       "            <td>Hermosa</td>\n",
       "            <td>12</td>\n",
       "            <td>89.75</td>\n",
       "        </tr>\n",
       "        <tr>\n",
       "            <td>Avalon Park</td>\n",
       "            <td>12</td>\n",
       "            <td>84.53</td>\n",
       "        </tr>\n",
       "    </tbody>\n",
       "</table>"
      ],
      "text/plain": [
       "[('Austin', 989, 89.73),\n",
       " ('Englewood', 357, 89.45),\n",
       " ('West Englewood', 156, 89.99),\n",
       " ('East Garfield Park', 104, 89.74),\n",
       " ('Woodlawn', 64, 89.39),\n",
       " ('Douglas', 55, 89.14),\n",
       " ('Pullman', 15, 89.32),\n",
       " ('West Elsdon', 12, 89.83),\n",
       " ('Hermosa', 12, 89.75),\n",
       " ('Avalon Park', 12, 84.53)]"
      ]
     },
     "execution_count": 25,
     "metadata": {},
     "output_type": "execute_result"
    }
   ],
   "source": [
    "%%sql SELECT CS.COMMUNITY_AREA_NAME, \n",
    "       COUNT(CH.CASE_NUMBER) AS total_crimes, \n",
    "       ROUND(AVG(C.AVERAGE_STUDENT_ATTENDANCE), 2) AS avg_attendance \n",
    "FROM CHICAGO_CENSUS_DATA AS CS \n",
    "JOIN CHICAGO_CRIME_DATA AS CH \n",
    "  ON CS.COMMUNITY_AREA_NUMBER = CH.COMMUNITY_AREA_NUMBER \n",
    "JOIN CHICAGO_PUBLIC_SCHOOLS AS C \n",
    "  ON CS.COMMUNITY_AREA_NUMBER = C.COMMUNITY_AREA_NUMBER \n",
    "GROUP BY CS.COMMUNITY_AREA_NAME \n",
    "HAVING avg_attendance < 90 \n",
    "ORDER BY total_crimes DESC \n",
    "LIMIT 10;\n"
   ]
  },
  {
   "cell_type": "markdown",
   "id": "b9e5b4b2-ed01-4edc-bf7a-6b83090a58c0",
   "metadata": {},
   "source": [
    "The query identifies neighborhoods with **high crime rates** and **low school attendance** (average value below 90%).  \n",
    "\n",
    "**Results:**  \n",
    "- **Austin** — 989 crimes, attendance 89.7%  \n",
    "- **Englewood** — 357 crimes, attendance 89.5%  \n",
    "- **West Englewood** — 156 crimes, attendance 89.9%  \n",
    "- **Avalon Park** — lowest attendance 84.5%  \n",
    "\n",
    "👉 **Key takeaways:**  \n",
    "- *Austin* is the leader in crime and one of the most problematic neighborhoods.  \n",
    "- *Englewood* and *West Englewood* are also critical: high crime + low student engagement.  \n",
    "- *Avalon Park* stands out with the **lowest attendance (84.5%)**.  \n",
    "- Even neighborhoods with fewer crimes (Pullman, Hermosa, West Elsdon) show weak attendance.  \n",
    "\n",
    "This analysis highlights the areas where both **security measures** and **educational support** need to be strengthened at the same time.\n"
   ]
  },
  {
   "cell_type": "markdown",
   "id": "80aab1f1-8089-4560-b081-913ff3bb959d",
   "metadata": {},
   "source": [
    "### 4.8. Neighborhoods with Low Income or High Hardship Index — “Risk List”\n",
    "\n",
    "We compile a unified list of socially vulnerable neighborhoods in Chicago.  \n",
    "**Inclusion criteria:**  \n",
    "- `LOW_INCOME`: per capita income < $11,000  \n",
    "- `HIGH_HARDSHIP`: hardship index > 80  "
   ]
  },
  {
   "cell_type": "code",
   "execution_count": 27,
   "id": "76c5adc8-7b2a-48d3-b79a-27e4953fba8c",
   "metadata": {},
   "outputs": [
    {
     "name": "stdout",
     "output_type": "stream",
     "text": [
      " * sqlite:///socioeconomic.db\n",
      "Done.\n"
     ]
    },
    {
     "data": {
      "text/html": [
       "<table>\n",
       "    <thead>\n",
       "        <tr>\n",
       "            <th>COMMUNITY_AREA_NUMBER</th>\n",
       "            <th>COMMUNITY_AREA_NAME</th>\n",
       "            <th>flag</th>\n",
       "        </tr>\n",
       "    </thead>\n",
       "    <tbody>\n",
       "        <tr>\n",
       "            <td>23.0</td>\n",
       "            <td>Humboldt park</td>\n",
       "            <td>HIGH_HARDSHIP</td>\n",
       "        </tr>\n",
       "        <tr>\n",
       "            <td>26.0</td>\n",
       "            <td>West Garfield Park</td>\n",
       "            <td>HIGH_HARDSHIP</td>\n",
       "        </tr>\n",
       "        <tr>\n",
       "            <td>26.0</td>\n",
       "            <td>West Garfield Park</td>\n",
       "            <td>LOW_INCOME</td>\n",
       "        </tr>\n",
       "        <tr>\n",
       "            <td>27.0</td>\n",
       "            <td>East Garfield Park</td>\n",
       "            <td>HIGH_HARDSHIP</td>\n",
       "        </tr>\n",
       "        <tr>\n",
       "            <td>29.0</td>\n",
       "            <td>North Lawndale</td>\n",
       "            <td>HIGH_HARDSHIP</td>\n",
       "        </tr>\n",
       "        <tr>\n",
       "            <td>30.0</td>\n",
       "            <td>South Lawndale</td>\n",
       "            <td>HIGH_HARDSHIP</td>\n",
       "        </tr>\n",
       "        <tr>\n",
       "            <td>30.0</td>\n",
       "            <td>South Lawndale</td>\n",
       "            <td>LOW_INCOME</td>\n",
       "        </tr>\n",
       "        <tr>\n",
       "            <td>34.0</td>\n",
       "            <td>Armour Square</td>\n",
       "            <td>HIGH_HARDSHIP</td>\n",
       "        </tr>\n",
       "        <tr>\n",
       "            <td>37.0</td>\n",
       "            <td>Fuller Park</td>\n",
       "            <td>HIGH_HARDSHIP</td>\n",
       "        </tr>\n",
       "        <tr>\n",
       "            <td>37.0</td>\n",
       "            <td>Fuller Park</td>\n",
       "            <td>LOW_INCOME</td>\n",
       "        </tr>\n",
       "        <tr>\n",
       "            <td>40.0</td>\n",
       "            <td>Washington Park</td>\n",
       "            <td>HIGH_HARDSHIP</td>\n",
       "        </tr>\n",
       "        <tr>\n",
       "            <td>54.0</td>\n",
       "            <td>Riverdale</td>\n",
       "            <td>HIGH_HARDSHIP</td>\n",
       "        </tr>\n",
       "        <tr>\n",
       "            <td>54.0</td>\n",
       "            <td>Riverdale</td>\n",
       "            <td>LOW_INCOME</td>\n",
       "        </tr>\n",
       "        <tr>\n",
       "            <td>58.0</td>\n",
       "            <td>Brighton Park</td>\n",
       "            <td>HIGH_HARDSHIP</td>\n",
       "        </tr>\n",
       "        <tr>\n",
       "            <td>61.0</td>\n",
       "            <td>New City</td>\n",
       "            <td>HIGH_HARDSHIP</td>\n",
       "        </tr>\n",
       "        <tr>\n",
       "            <td>63.0</td>\n",
       "            <td>Gage Park</td>\n",
       "            <td>HIGH_HARDSHIP</td>\n",
       "        </tr>\n",
       "        <tr>\n",
       "            <td>67.0</td>\n",
       "            <td>West Englewood</td>\n",
       "            <td>HIGH_HARDSHIP</td>\n",
       "        </tr>\n",
       "        <tr>\n",
       "            <td>68.0</td>\n",
       "            <td>Englewood</td>\n",
       "            <td>HIGH_HARDSHIP</td>\n",
       "        </tr>\n",
       "    </tbody>\n",
       "</table>"
      ],
      "text/plain": [
       "[(23.0, 'Humboldt park', 'HIGH_HARDSHIP'),\n",
       " (26.0, 'West Garfield Park', 'HIGH_HARDSHIP'),\n",
       " (26.0, 'West Garfield Park', 'LOW_INCOME'),\n",
       " (27.0, 'East Garfield Park', 'HIGH_HARDSHIP'),\n",
       " (29.0, 'North Lawndale', 'HIGH_HARDSHIP'),\n",
       " (30.0, 'South Lawndale', 'HIGH_HARDSHIP'),\n",
       " (30.0, 'South Lawndale', 'LOW_INCOME'),\n",
       " (34.0, 'Armour Square', 'HIGH_HARDSHIP'),\n",
       " (37.0, 'Fuller Park', 'HIGH_HARDSHIP'),\n",
       " (37.0, 'Fuller Park', 'LOW_INCOME'),\n",
       " (40.0, 'Washington Park', 'HIGH_HARDSHIP'),\n",
       " (54.0, 'Riverdale', 'HIGH_HARDSHIP'),\n",
       " (54.0, 'Riverdale', 'LOW_INCOME'),\n",
       " (58.0, 'Brighton Park', 'HIGH_HARDSHIP'),\n",
       " (61.0, 'New City', 'HIGH_HARDSHIP'),\n",
       " (63.0, 'Gage Park', 'HIGH_HARDSHIP'),\n",
       " (67.0, 'West Englewood', 'HIGH_HARDSHIP'),\n",
       " (68.0, 'Englewood', 'HIGH_HARDSHIP')]"
      ]
     },
     "execution_count": 27,
     "metadata": {},
     "output_type": "execute_result"
    }
   ],
   "source": [
    "%%sql SELECT COMMUNITY_AREA_NUMBER, \n",
    "       COMMUNITY_AREA_NAME, \n",
    "       'LOW_INCOME' AS flag \n",
    "FROM CHICAGO_CENSUS_DATA \n",
    "WHERE PER_CAPITA_INCOME_ < 11000 \n",
    "UNION \n",
    "SELECT COMMUNITY_AREA_NUMBER, \n",
    "       COMMUNITY_AREA_NAME, \n",
    "       'HIGH_HARDSHIP' AS flag \n",
    "FROM CHICAGO_CENSUS_DATA \n",
    "WHERE HARDSHIP_INDEX > 80 \n",
    "ORDER BY COMMUNITY_AREA_NUMBER, flag;\n"
   ]
  },
  {
   "cell_type": "markdown",
   "id": "fc17c85f-527d-4e09-9002-08c54eae6208",
   "metadata": {},
   "source": [
    "The query generates a “risk list” of neighborhoods that meet at least one criterion:  \n",
    "- low per capita income (< $11,000),  \n",
    "- high Hardship Index (> 80).  \n",
    "\n",
    "**Examples:**  \n",
    "- **Humboldt Park** — HIGH_HARDSHIP.  \n",
    "- **West Garfield Park** — meets both criteria (LOW_INCOME + HIGH_HARDSHIP).  \n",
    "- **East Garfield Park, North Lawndale, South Lawndale** — HIGH_HARDSHIP.  \n",
    "\n",
    "👉 Special attention should be given to areas meeting **both** conditions (e.g., West Garfield Park).  \n"
   ]
  },
  {
   "cell_type": "markdown",
   "id": "0ec3e9d9-2f0e-4dd8-95d4-8de2053eb5de",
   "metadata": {},
   "source": [
    "### 4.9. Ranking Neighborhoods by Crime (Window Functions)\n",
    "\n",
    "To rank neighborhoods by the number of crimes, we use SQL window functions.  \n",
    "They allow us to build a ranking with classic metrics:\n",
    "\n",
    "- **RANK()** — assigns positions with gaps (if two neighborhoods share 1st place, the next gets 3rd).  \n",
    "- **DENSE_RANK()** — similar to `RANK()`, but without gaps in numbering.  \n"
   ]
  },
  {
   "cell_type": "code",
   "execution_count": 29,
   "id": "44989ca6-2e9d-42d7-b6e7-3328140dd63e",
   "metadata": {},
   "outputs": [
    {
     "name": "stdout",
     "output_type": "stream",
     "text": [
      " * sqlite:///socioeconomic.db\n",
      "Done.\n"
     ]
    },
    {
     "data": {
      "text/html": [
       "<table>\n",
       "    <thead>\n",
       "        <tr>\n",
       "            <th>COMMUNITY_AREA_NUMBER</th>\n",
       "            <th>crime_count</th>\n",
       "            <th>rank_by_crime</th>\n",
       "            <th>dense_rank_by_crime</th>\n",
       "        </tr>\n",
       "    </thead>\n",
       "    <tbody>\n",
       "        <tr>\n",
       "            <td>None</td>\n",
       "            <td>43</td>\n",
       "            <td>1</td>\n",
       "            <td>1</td>\n",
       "        </tr>\n",
       "        <tr>\n",
       "            <td>25.0</td>\n",
       "            <td>43</td>\n",
       "            <td>1</td>\n",
       "            <td>1</td>\n",
       "        </tr>\n",
       "        <tr>\n",
       "            <td>23.0</td>\n",
       "            <td>22</td>\n",
       "            <td>3</td>\n",
       "            <td>2</td>\n",
       "        </tr>\n",
       "        <tr>\n",
       "            <td>68.0</td>\n",
       "            <td>21</td>\n",
       "            <td>4</td>\n",
       "            <td>3</td>\n",
       "        </tr>\n",
       "        <tr>\n",
       "            <td>28.0</td>\n",
       "            <td>16</td>\n",
       "            <td>5</td>\n",
       "            <td>4</td>\n",
       "        </tr>\n",
       "        <tr>\n",
       "            <td>29.0</td>\n",
       "            <td>16</td>\n",
       "            <td>5</td>\n",
       "            <td>4</td>\n",
       "        </tr>\n",
       "        <tr>\n",
       "            <td>8.0</td>\n",
       "            <td>15</td>\n",
       "            <td>7</td>\n",
       "            <td>5</td>\n",
       "        </tr>\n",
       "        <tr>\n",
       "            <td>71.0</td>\n",
       "            <td>14</td>\n",
       "            <td>8</td>\n",
       "            <td>6</td>\n",
       "        </tr>\n",
       "        <tr>\n",
       "            <td>24.0</td>\n",
       "            <td>13</td>\n",
       "            <td>9</td>\n",
       "            <td>7</td>\n",
       "        </tr>\n",
       "        <tr>\n",
       "            <td>66.0</td>\n",
       "            <td>12</td>\n",
       "            <td>10</td>\n",
       "            <td>8</td>\n",
       "        </tr>\n",
       "        <tr>\n",
       "            <td>67.0</td>\n",
       "            <td>12</td>\n",
       "            <td>10</td>\n",
       "            <td>8</td>\n",
       "        </tr>\n",
       "        <tr>\n",
       "            <td>6.0</td>\n",
       "            <td>11</td>\n",
       "            <td>12</td>\n",
       "            <td>9</td>\n",
       "        </tr>\n",
       "        <tr>\n",
       "            <td>49.0</td>\n",
       "            <td>11</td>\n",
       "            <td>12</td>\n",
       "            <td>9</td>\n",
       "        </tr>\n",
       "        <tr>\n",
       "            <td>69.0</td>\n",
       "            <td>11</td>\n",
       "            <td>12</td>\n",
       "            <td>9</td>\n",
       "        </tr>\n",
       "        <tr>\n",
       "            <td>26.0</td>\n",
       "            <td>10</td>\n",
       "            <td>15</td>\n",
       "            <td>10</td>\n",
       "        </tr>\n",
       "        <tr>\n",
       "            <td>58.0</td>\n",
       "            <td>10</td>\n",
       "            <td>15</td>\n",
       "            <td>10</td>\n",
       "        </tr>\n",
       "        <tr>\n",
       "            <td>61.0</td>\n",
       "            <td>10</td>\n",
       "            <td>15</td>\n",
       "            <td>10</td>\n",
       "        </tr>\n",
       "        <tr>\n",
       "            <td>22.0</td>\n",
       "            <td>9</td>\n",
       "            <td>18</td>\n",
       "            <td>11</td>\n",
       "        </tr>\n",
       "        <tr>\n",
       "            <td>31.0</td>\n",
       "            <td>9</td>\n",
       "            <td>18</td>\n",
       "            <td>11</td>\n",
       "        </tr>\n",
       "        <tr>\n",
       "            <td>43.0</td>\n",
       "            <td>9</td>\n",
       "            <td>18</td>\n",
       "            <td>11</td>\n",
       "        </tr>\n",
       "    </tbody>\n",
       "</table>"
      ],
      "text/plain": [
       "[(None, 43, 1, 1),\n",
       " (25.0, 43, 1, 1),\n",
       " (23.0, 22, 3, 2),\n",
       " (68.0, 21, 4, 3),\n",
       " (28.0, 16, 5, 4),\n",
       " (29.0, 16, 5, 4),\n",
       " (8.0, 15, 7, 5),\n",
       " (71.0, 14, 8, 6),\n",
       " (24.0, 13, 9, 7),\n",
       " (66.0, 12, 10, 8),\n",
       " (67.0, 12, 10, 8),\n",
       " (6.0, 11, 12, 9),\n",
       " (49.0, 11, 12, 9),\n",
       " (69.0, 11, 12, 9),\n",
       " (26.0, 10, 15, 10),\n",
       " (58.0, 10, 15, 10),\n",
       " (61.0, 10, 15, 10),\n",
       " (22.0, 9, 18, 11),\n",
       " (31.0, 9, 18, 11),\n",
       " (43.0, 9, 18, 11)]"
      ]
     },
     "execution_count": 29,
     "metadata": {},
     "output_type": "execute_result"
    }
   ],
   "source": [
    "%%sql\n",
    "WITH crime_by_area AS (\n",
    "    SELECT COMMUNITY_AREA_NUMBER,\n",
    "           COUNT(*) AS crime_count\n",
    "    FROM CHICAGO_CRIME_DATA\n",
    "    GROUP BY COMMUNITY_AREA_NUMBER\n",
    ")\n",
    "SELECT COMMUNITY_AREA_NUMBER,\n",
    "       crime_count,\n",
    "       RANK() OVER (ORDER BY crime_count DESC)  AS rank_by_crime,\n",
    "       DENSE_RANK() OVER (ORDER BY crime_count DESC)  AS dense_rank_by_crime\n",
    "FROM crime_by_area\n",
    "ORDER BY rank_by_crime\n",
    "LIMIT 20;\n"
   ]
  },
  {
   "cell_type": "markdown",
   "id": "aa980538-55c4-4841-84e4-1cb573c347b0",
   "metadata": {},
   "source": [
    "### Findings\n",
    "\n",
    "- **Top crime leaders** — Neighborhood **№25** and the **undefined area (None)**: each has **43 crimes** recorded.  \n",
    "  They both hold 1st place in the ranking.  \n",
    "- **Neighborhood №23** is 3rd (22 crimes), and **№68** is 4th (21 crimes).  \n",
    "- Then we see a group of neighborhoods with similar crime levels:  \n",
    "  - №28 and №29 (16 crimes each, tied for 5th place).  \n",
    "  - №8 (15 crimes, 7th place).  \n",
    "  - №71 (14 crimes, 8th place).  \n",
    "- Starting from 10th place, the number of crimes drops sharply to the **9–12** range.  \n",
    "\n",
    "👉 **Thus:**  \n",
    "- This method highlights not only the **leaders in crime**, but also groups neighborhoods with the same values.  \n",
    "- We can clearly see “**risk clusters**” (for example, №28 and №29) with identical numbers of incidents.  \n"
   ]
  },
  {
   "cell_type": "markdown",
   "id": "ff1fe4b0-ae42-4697-b09b-a25c32b90da1",
   "metadata": {},
   "source": [
    "### 4.10. Neighborhoods with High Poverty and Low School Safety  \n",
    "\n",
    "Identify neighborhoods where both conditions are met:  \n",
    "- More than **25% of households live below the poverty line**,  \n",
    "- Schools show a **low average safety score**.  \n",
    "\n",
    "We use two CTEs (Common Table Expressions):  \n",
    "- `school_safety` → calculates the average `SAFETY_SCORE` per neighborhood,  \n",
    "- `poverty` → retrieves the % of households below the poverty line.  \n",
    "\n",
    "Then we join these CTEs and rank neighborhoods by poverty and low safety to highlight the most at-risk areas.  \n"
   ]
  },
  {
   "cell_type": "code",
   "execution_count": 31,
   "id": "f6098cc0-c49b-4360-aaca-e96eaf83eb80",
   "metadata": {},
   "outputs": [
    {
     "name": "stdout",
     "output_type": "stream",
     "text": [
      " * sqlite:///socioeconomic.db\n",
      "Done.\n"
     ]
    },
    {
     "data": {
      "text/html": [
       "<table>\n",
       "    <thead>\n",
       "        <tr>\n",
       "            <th>COMMUNITY_AREA_NAME</th>\n",
       "            <th>PERCENT_HOUSEHOLDS_BELOW_POVERTY</th>\n",
       "            <th>avg_safety</th>\n",
       "            <th>poverty_rank</th>\n",
       "            <th>low_safety_rank</th>\n",
       "        </tr>\n",
       "    </thead>\n",
       "    <tbody>\n",
       "        <tr>\n",
       "            <td>Riverdale</td>\n",
       "            <td>56.5</td>\n",
       "            <td>41.0</td>\n",
       "            <td>1</td>\n",
       "            <td>17</td>\n",
       "        </tr>\n",
       "        <tr>\n",
       "            <td>Fuller Park</td>\n",
       "            <td>51.2</td>\n",
       "            <td>35.5</td>\n",
       "            <td>2</td>\n",
       "            <td>12</td>\n",
       "        </tr>\n",
       "        <tr>\n",
       "            <td>Englewood</td>\n",
       "            <td>46.6</td>\n",
       "            <td>34.06</td>\n",
       "            <td>3</td>\n",
       "            <td>10</td>\n",
       "        </tr>\n",
       "        <tr>\n",
       "            <td>North Lawndale</td>\n",
       "            <td>43.1</td>\n",
       "            <td>49.27</td>\n",
       "            <td>4</td>\n",
       "            <td>23</td>\n",
       "        </tr>\n",
       "        <tr>\n",
       "            <td>East Garfield Park</td>\n",
       "            <td>42.4</td>\n",
       "            <td>49.46</td>\n",
       "            <td>5</td>\n",
       "            <td>24</td>\n",
       "        </tr>\n",
       "        <tr>\n",
       "            <td>Washington Park</td>\n",
       "            <td>42.1</td>\n",
       "            <td>25.4</td>\n",
       "            <td>6</td>\n",
       "            <td>1</td>\n",
       "        </tr>\n",
       "        <tr>\n",
       "            <td>West Garfield Park</td>\n",
       "            <td>41.7</td>\n",
       "            <td>37.25</td>\n",
       "            <td>7</td>\n",
       "            <td>13</td>\n",
       "        </tr>\n",
       "        <tr>\n",
       "            <td>Armour Square</td>\n",
       "            <td>40.1</td>\n",
       "            <td>43.33</td>\n",
       "            <td>8</td>\n",
       "            <td>21</td>\n",
       "        </tr>\n",
       "        <tr>\n",
       "            <td>West Englewood</td>\n",
       "            <td>34.4</td>\n",
       "            <td>31.17</td>\n",
       "            <td>9</td>\n",
       "            <td>4</td>\n",
       "        </tr>\n",
       "        <tr>\n",
       "            <td>Humboldt park</td>\n",
       "            <td>33.9</td>\n",
       "            <td>41.1</td>\n",
       "            <td>10</td>\n",
       "            <td>18</td>\n",
       "        </tr>\n",
       "        <tr>\n",
       "            <td>Burnside</td>\n",
       "            <td>33.0</td>\n",
       "            <td>28.0</td>\n",
       "            <td>11</td>\n",
       "            <td>3</td>\n",
       "        </tr>\n",
       "        <tr>\n",
       "            <td>South Shore</td>\n",
       "            <td>31.1</td>\n",
       "            <td>34.0</td>\n",
       "            <td>12</td>\n",
       "            <td>9</td>\n",
       "        </tr>\n",
       "        <tr>\n",
       "            <td>Woodlawn</td>\n",
       "            <td>30.7</td>\n",
       "            <td>33.29</td>\n",
       "            <td>13</td>\n",
       "            <td>7</td>\n",
       "        </tr>\n",
       "        <tr>\n",
       "            <td>South Lawndale</td>\n",
       "            <td>30.7</td>\n",
       "            <td>47.42</td>\n",
       "            <td>13</td>\n",
       "            <td>22</td>\n",
       "        </tr>\n",
       "        <tr>\n",
       "            <td>South Chicago</td>\n",
       "            <td>29.8</td>\n",
       "            <td>27.0</td>\n",
       "            <td>15</td>\n",
       "            <td>2</td>\n",
       "        </tr>\n",
       "        <tr>\n",
       "            <td>Greater Grand Crossing</td>\n",
       "            <td>29.6</td>\n",
       "            <td>35.0</td>\n",
       "            <td>16</td>\n",
       "            <td>11</td>\n",
       "        </tr>\n",
       "        <tr>\n",
       "            <td>Douglas</td>\n",
       "            <td>29.6</td>\n",
       "            <td>43.25</td>\n",
       "            <td>16</td>\n",
       "            <td>20</td>\n",
       "        </tr>\n",
       "        <tr>\n",
       "            <td>Grand Boulevard</td>\n",
       "            <td>29.3</td>\n",
       "            <td>37.5</td>\n",
       "            <td>18</td>\n",
       "            <td>14</td>\n",
       "        </tr>\n",
       "        <tr>\n",
       "            <td>South Deering</td>\n",
       "            <td>29.2</td>\n",
       "            <td>42.5</td>\n",
       "            <td>19</td>\n",
       "            <td>19</td>\n",
       "        </tr>\n",
       "        <tr>\n",
       "            <td>New City</td>\n",
       "            <td>29.0</td>\n",
       "            <td>38.62</td>\n",
       "            <td>20</td>\n",
       "            <td>15</td>\n",
       "        </tr>\n",
       "    </tbody>\n",
       "</table>"
      ],
      "text/plain": [
       "[('Riverdale', 56.5, 41.0, 1, 17),\n",
       " ('Fuller Park', 51.2, 35.5, 2, 12),\n",
       " ('Englewood', 46.6, 34.06, 3, 10),\n",
       " ('North Lawndale', 43.1, 49.27, 4, 23),\n",
       " ('East Garfield Park', 42.4, 49.46, 5, 24),\n",
       " ('Washington Park', 42.1, 25.4, 6, 1),\n",
       " ('West Garfield Park', 41.7, 37.25, 7, 13),\n",
       " ('Armour Square', 40.1, 43.33, 8, 21),\n",
       " ('West Englewood', 34.4, 31.17, 9, 4),\n",
       " ('Humboldt park', 33.9, 41.1, 10, 18),\n",
       " ('Burnside', 33.0, 28.0, 11, 3),\n",
       " ('South Shore', 31.1, 34.0, 12, 9),\n",
       " ('Woodlawn', 30.7, 33.29, 13, 7),\n",
       " ('South Lawndale', 30.7, 47.42, 13, 22),\n",
       " ('South Chicago', 29.8, 27.0, 15, 2),\n",
       " ('Greater Grand Crossing', 29.6, 35.0, 16, 11),\n",
       " ('Douglas', 29.6, 43.25, 16, 20),\n",
       " ('Grand Boulevard', 29.3, 37.5, 18, 14),\n",
       " ('South Deering', 29.2, 42.5, 19, 19),\n",
       " ('New City', 29.0, 38.62, 20, 15)]"
      ]
     },
     "execution_count": 31,
     "metadata": {},
     "output_type": "execute_result"
    }
   ],
   "source": [
    "%%sql WITH school_safety AS ( \n",
    "    SELECT COMMUNITY_AREA_NUMBER, \n",
    "           ROUND(AVG(SAFETY_SCORE), 2) AS avg_safety \n",
    "    FROM CHICAGO_PUBLIC_SCHOOLS \n",
    "    WHERE SAFETY_SCORE IS NOT NULL \n",
    "    GROUP BY COMMUNITY_AREA_NUMBER \n",
    "), \n",
    "poverty AS ( \n",
    "    SELECT COMMUNITY_AREA_NUMBER, \n",
    "           COMMUNITY_AREA_NAME, \n",
    "           PERCENT_HOUSEHOLDS_BELOW_POVERTY \n",
    "    FROM CHICAGO_CENSUS_DATA \n",
    ") \n",
    "SELECT p.COMMUNITY_AREA_NAME, \n",
    "       p.PERCENT_HOUSEHOLDS_BELOW_POVERTY, \n",
    "       s.avg_safety, \n",
    "       RANK() OVER (ORDER BY p.PERCENT_HOUSEHOLDS_BELOW_POVERTY DESC) AS poverty_rank, \n",
    "       RANK() OVER (ORDER BY s.avg_safety ASC)  AS low_safety_rank \n",
    "FROM poverty p \n",
    "JOIN school_safety s \n",
    "  ON p.COMMUNITY_AREA_NUMBER = s.COMMUNITY_AREA_NUMBER \n",
    "WHERE p.PERCENT_HOUSEHOLDS_BELOW_POVERTY > 25 \n",
    "ORDER BY p.PERCENT_HOUSEHOLDS_BELOW_POVERTY DESC, s.avg_safety ASC \n",
    "LIMIT 20;\n"
   ]
  },
  {
   "cell_type": "markdown",
   "id": "00cc458c-c1fa-4579-9389-369fb5a9af4d",
   "metadata": {},
   "source": [
    "The query compares two key indicators:  \n",
    "- % of households below the poverty line (`PERCENT_HOUSEHOLDS_BELOW_POVERTY`),  \n",
    "- average school safety score (`avg_safety`).  \n",
    "\n",
    "**Top-3 neighborhoods:**  \n",
    "- **Riverdale** — poverty 56.5%, safety 41.0  \n",
    "- **Fuller Park** — poverty 51.2%, safety 35.5  \n",
    "- **Englewood** — poverty 46.6%, safety 34.1  \n",
    "\n",
    "👉 **Conclusion:**  \n",
    "These neighborhoods combine high poverty with low school safety and therefore require **priority intervention**.  \n"
   ]
  },
  {
   "cell_type": "markdown",
   "id": "3d3755f0-9df3-4273-9348-8734117b8538",
   "metadata": {},
   "source": [
    "As part of the analysis of Chicago neighborhoods, the relationship between **poverty levels** and **school safety** was examined.  \n",
    "For this purpose, the following metrics were calculated:  \n",
    "\n",
    "- the percentage of households below the poverty line (from census data),  \n",
    "- the average school safety score (from school data).  \n",
    "\n",
    "Only neighborhoods where **more than 25% of households live in poverty** were included in the sample.  \n",
    "\n",
    "The results are shown on a scatter plot:  \n",
    "- **X-axis** — poverty level,  \n",
    "- **Y-axis** — average school safety score.  \n"
   ]
  },
  {
   "cell_type": "code",
   "execution_count": 37,
   "id": "2154c579-5fdf-43b8-989b-b54b3ced22c4",
   "metadata": {},
   "outputs": [
    {
     "data": {
      "image/png": "[encoded data removed]",
      "text/plain": [
       "<Figure size 1000x600 with 1 Axes>"
      ]
     },
     "metadata": {},
     "output_type": "display_data"
    }
   ],
   "source": [
    "# Execute the query and save the result into a DataFrame\n",
    "query = \"\"\"\n",
    "WITH school_safety AS (\n",
    "    SELECT COMMUNITY_AREA_NUMBER,\n",
    "           ROUND(AVG(SAFETY_SCORE), 2) AS avg_safety\n",
    "    FROM CHICAGO_PUBLIC_SCHOOLS\n",
    "    WHERE SAFETY_SCORE IS NOT NULL\n",
    "    GROUP BY COMMUNITY_AREA_NUMBER\n",
    "),\n",
    "poverty AS (\n",
    "    SELECT COMMUNITY_AREA_NUMBER,\n",
    "           COMMUNITY_AREA_NAME,\n",
    "           PERCENT_HOUSEHOLDS_BELOW_POVERTY\n",
    "    FROM CHICAGO_CENSUS_DATA\n",
    ")\n",
    "SELECT p.COMMUNITY_AREA_NAME,\n",
    "       p.PERCENT_HOUSEHOLDS_BELOW_POVERTY AS poverty,\n",
    "       s.avg_safety\n",
    "FROM poverty p\n",
    "JOIN school_safety s\n",
    "  ON p.COMMUNITY_AREA_NUMBER = s.COMMUNITY_AREA_NUMBER\n",
    "WHERE p.PERCENT_HOUSEHOLDS_BELOW_POVERTY > 25\n",
    "ORDER BY p.PERCENT_HOUSEHOLDS_BELOW_POVERTY DESC, s.avg_safety ASC\n",
    "LIMIT 20;\n",
    "\"\"\"\n",
    "\n",
    "df = pd.read_sql_query(query, con)\n",
    "\n",
    "# Build scatterplot\n",
    "plt.figure(figsize=(10, 6))\n",
    "plt.scatter(df['poverty'], df['avg_safety'], c='red', alpha=0.7)\n",
    "\n",
    "# Add point labels\n",
    "for i, txt in enumerate(df['COMMUNITY_AREA_NAME']):\n",
    "    plt.annotate(txt, \n",
    "                 (df['poverty'][i], df['avg_safety'][i]), \n",
    "                 fontsize=8)\n",
    "\n",
    "plt.title(\"Chicago neighborhoods: % of households below poverty line vs. average school safety score\")\n",
    "plt.xlabel(\"% of households below the poverty line\")\n",
    "plt.ylabel(\"Average school safety score\")\n",
    "plt.grid(True)\n",
    "\n",
    "plt.savefig(\"images/poverty_vs_school_safety.svg\")\n",
    "\n",
    "plt.show()\n"
   ]
  },
  {
   "cell_type": "markdown",
   "id": "42df220d-187c-40fe-895f-0d2c62c07e6c",
   "metadata": {},
   "source": [
    "## 📊 Conclusions from the Scatter Plot  \n",
    "**Chicago Neighborhoods: % of Households Below Poverty vs. Average School Safety**\n",
    "\n",
    "- **No strict correlation:** high poverty does not always mean low school safety.  \n",
    "  *Example:* Riverdale (~56% poor, safety ~41).\n",
    "\n",
    "- **Low safety with high poverty:**  \n",
    "  Washington Park (min. safety ~25 at ~42% poor),  \n",
    "  Burnside, South Chicago, West Englewood (medium-high poverty, low safety).\n",
    "\n",
    "- **Exceptions (high poverty + high safety):**  \n",
    "  East Garfield Park, North Lawndale (safety 49 at 43% poor),  \n",
    "  South Lawndale (~47 at ~30% poor).\n",
    "\n",
    "- **Overall trend:**  \n",
    "  With low and medium poverty, average-to-high safety is more common;  \n",
    "  With high poverty, the range widens — both very low and relatively high safety scores occur.\n",
    "\n",
    "✅ **Summary:** most high-poverty neighborhoods show low or medium school safety, but there are exceptions with relatively high safety despite high poverty.\n",
    "\n",
    "---\n",
    "\n",
    "## 📝 Final Conclusion on the Chicago Data Study  \n",
    "\n",
    "The analysis of crime, schools, and socio-economic indicators revealed a systemic pattern:  \n",
    "**poverty → social vulnerability → crime ↔ lower school safety.**\n",
    "\n",
    "- **Key risk neighborhoods:** Riverdale, Fuller Park, Englewood, North Lawndale, East Garfield Park, Austin, West Garfield Park.  \n",
    "- **Typical characteristics:** low per-capita income (<$11k), high % of households below poverty, critical Hardship Index, wide spectrum of offenses.  \n",
    "- **School environment:** schools in these neighborhoods are more often subject to incidents despite high attendance.  \n",
    "- **Window functions (RANK/DENSE_RANK):** identify “risk clusters” — several neighborhoods with the same crime levels occupy adjacent positions in the ranking.\n",
    "\n",
    "**Overall takeaway:** the data confirm the link between poverty, school environment vulnerability, and crime. These neighborhoods should be prioritized for social programs:  \n",
    "— poverty reduction measures;  \n",
    "— targeted improvement of school safety;  \n",
    "— focused anti-crime initiatives.\n",
    "\n",
    "💡 **Bottom line:** integrating census, school, and crime data makes it possible to identify patterns and design comprehensive strategies for sustainable urban development.\n"
   ]
  },
  {
   "cell_type": "code",
   "execution_count": null,
   "id": "89ac468d-6cb4-4066-80f3-7156884c4456",
   "metadata": {},
   "outputs": [],
   "source": []
  }
 ],
 "metadata": {
  "kernelspec": {
   "display_name": "Python 3 (ipykernel)",
   "language": "python",
   "name": "python3"
  },
  "language_info": {
   "codemirror_mode": {
    "name": "ipython",
    "version": 3
   },
   "file_extension": ".py",
   "mimetype": "text/x-python",
   "name": "python",
   "nbconvert_exporter": "python",
   "pygments_lexer": "ipython3",
   "version": "3.12.7"
  }
 },
 "nbformat": 4,
 "nbformat_minor": 5
}

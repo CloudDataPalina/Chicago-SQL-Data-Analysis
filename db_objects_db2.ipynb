{
 "cells": [
  {
   "cell_type": "markdown",
   "id": "9c89f936-638e-46ad-8c5b-e273d4ad6a6a",
   "metadata": {},
   "source": [
    "# Working with Database Objects in IBM Db2 on Cloud\n",
    "\n",
    "In the first two notebooks we explored Chicago data using local SQLite.  \n",
    "In this part we move to the cloud DBMS **IBM Db2 on Cloud** to demonstrate how to create and use database objects:\n",
    "\n",
    "- **VIEW** — views for convenient data access.  \n",
    "- **STORED PROCEDURE** — stored procedures to encapsulate logic.  \n",
    "- **TRANSACTION** — transaction examples using `COMMIT` and `ROLLBACK`.  \n",
    "\n",
    "---\n",
    "\n",
    "### Connecting to Db2  \n",
    "\n",
    "Initially I tried to connect to the cloud directly from Jupyter Notebook using:\n",
    "\n",
    "```bash\n",
    "!pip install ibm_db_sa==0.3.3\n",
    "!pip install sqlalchemy==1.3.24\n",
    "!pip install ipython-sql\n",
    "%load_ext sql\n",
    "%sql ibm_db_sa://USER:PASSWORD@HOST:PORT/BLUDB?security=SSL\n",
    "\n",
    "```\n",
    "\n",
    "The attempt to connect to Db2 from Jupyter Notebook revealed compatibility issues of the `ibm_db` and `sqlalchemy` packages with Python 3.12.  \n",
    "Therefore, creation of database objects (**VIEW, PROCEDURE, TRANSACTION**) was carried out via **Db2 Console → Run SQL**, and the results were saved as screenshots. \n"
   ]
  },
  {
   "cell_type": "markdown",
   "id": "9e4ae180-12e7-4fef-986d-57a06ea9626f",
   "metadata": {},
   "source": [
    "## 1. Using JOINs\n",
    "\n",
    "**Task:**  \n",
    "Write an SQL query to display school names, community names, and average attendance for communities with a hardship index of 98.  \n",
    "Also, create a query to display all crimes that occurred in schools (case number, crime type, community name).\n",
    "\n",
    "**Code:** executed via `SELECT ... JOIN ...`\n"
   ]
  },
  {
   "cell_type": "raw",
   "id": "8882a46d-eb67-4ea8-af5b-4c1b53afa71d",
   "metadata": {},
   "source": [
    "SELECT C.NAME_OF_SCHOOL, \n",
    "       C.COMMUNITY_AREA_NAME, \n",
    "       C.AVERAGE_STUDENT_ATTENDANCE\n",
    "FROM CHICAGO_PUBLIC_SCHOOLS AS C\n",
    "LEFT OUTER JOIN CENSUS_DATA AS CS\n",
    "  ON CS.COMMUNITY_AREA_NUMBER = C.COMMUNITY_AREA_NUMBER\n",
    "WHERE CS.HARDSHIP_INDEX = 98;"
   ]
  },
  {
   "cell_type": "markdown",
   "id": "00cf8eff-cc1f-4026-a257-af1cf2dbfd8b",
   "metadata": {},
   "source": [
    "> The query was executed in the **external Db2 Console → Run SQL**.  \n",
    "> The screenshot below shows the result of the execution.\n"
   ]
  },
  {
   "cell_type": "markdown",
   "id": "89c18f0e-2c9f-489a-9b32-f6c2290ad7b7",
   "metadata": {},
   "source": [
    "![результат запроса](screens/join_result.png)\n"
   ]
  },
  {
   "cell_type": "markdown",
   "id": "91076931-c124-486b-a0f6-b9bba6979182",
   "metadata": {},
   "source": [
    "**Result:**  \n",
    "For the **Riverdale** area (Hardship Index = 98) data were retrieved for four schools:  \n",
    "- George Washington Carver Military Academy High School — attendance 91.6%  \n",
    "- George Washington Carver Primary School — attendance 90.9%  \n",
    "- Ira F Aldridge Elementary School — attendance 92.9%  \n",
    "- William E B Dubois Elementary School — attendance 93.3%  \n",
    "\n",
    "**Conclusion:**  \n",
    "Using `JOIN` allowed combining school data with the district’s social indicators.  \n",
    "It can be seen that even under extremely unfavorable conditions (high Hardship Index), Riverdale schools maintain a relatively high attendance level (90–93%).  \n",
    "This shows that educational institutions remain resilient even in socially vulnerable areas.  \n",
    "Thus, JOIN queries make it possible to comprehensively analyze the relationships between social and educational indicators, which is especially important for assessing vulnerable neighborhoods.\n"
   ]
  },
  {
   "cell_type": "markdown",
   "id": "c4e1feca-02f7-4d89-b0b8-77a345a74bb6",
   "metadata": {},
   "source": [
    "## 2. Crimes in Schools  \n",
    "\n",
    "**Task:**  \n",
    "Write an SQL query to display all crimes that occurred in schools. Include the case number, type of crime, and community name.  \n",
    "\n",
    "**Code:** executed via `SELECT ... JOIN ...`\n"
   ]
  },
  {
   "cell_type": "raw",
   "id": "27e4d157-e698-4db0-a4c3-baff3a8a9d83",
   "metadata": {},
   "source": [
    "SELECT CH.CASE_NUMBER, \n",
    "       CH.PRIMARY_TYPE, \n",
    "       C.COMMUNITY_AREA_NAME\n",
    "FROM   CENSUS_DATA AS C\n",
    "LEFT OUTER JOIN CHICAGO_CRIME_DATA AS CH\n",
    "       ON CH.COMMUNITY_AREA_NUMBER = C.COMMUNITY_AREA_NUMBER\n",
    "WHERE  CH.LOCATION_DESCRIPTION LIKE '%SCHOOL%';"
   ]
  },
  {
   "cell_type": "markdown",
   "id": "a685a7ab-a1eb-467d-8809-979306ec2ef7",
   "metadata": {},
   "source": [
    "> The query was executed in the **external Db2 Console → Run SQL**.  \n",
    "> The screenshot below shows the execution result.\n"
   ]
  },
  {
   "cell_type": "markdown",
   "id": "6828e676-55d0-498c-87a4-0d09dd3e8390",
   "metadata": {},
   "source": [
    "![результат запроса](screens/join_result1.png)"
   ]
  },
  {
   "cell_type": "markdown",
   "id": "5dd996b0-0c4e-42ae-a2fe-2d5a39c95b9c",
   "metadata": {},
   "source": [
    "**Results:**  \n",
    "The selection shows incidents that occurred near or inside schools. Among them are:\n",
    "\n",
    "- drug-related crimes (**NARCOTICS**),  \n",
    "- violent acts (**BATTERY, ASSAULT**),  \n",
    "- property damage (**CRIMINAL DAMAGE**),  \n",
    "- trespassing incidents (**CRIMINAL TRESPASS**).  \n",
    "\n",
    "**Conclusion:**  \n",
    "Even school grounds are not completely safe: both minor offenses and serious crimes are recorded.  \n",
    "These data highlight the need for additional security measures in educational institutions and in the surrounding areas.\n"
   ]
  },
  {
   "cell_type": "markdown",
   "id": "2ec586e2-2dbb-4ee7-abb2-824b435e8bc0",
   "metadata": {},
   "source": [
    "## 3. Creating a View (VIEW)\n",
    "\n",
    "**Task:**  \n",
    "Create a `VIEW` with renamed columns.  \n",
    "Verify its functionality by running:  \n",
    "- a `SELECT * FROM <view>` query,  \n",
    "- a query returning only school names and leader ratings.  \n",
    "\n",
    "**Code:** executed via `CREATE OR REPLACE VIEW ...`\n"
   ]
  },
  {
   "cell_type": "raw",
   "id": "65e0ce2a-8281-4294-be9d-3a3b48516e0b",
   "metadata": {},
   "source": [
    "CREATE VIEW CHICAGO_PUB_SCHOOLS AS\n",
    "SELECT\n",
    "    NAME_OF_SCHOOL AS School_Name,\n",
    "    Safety_Icon AS Safety_Rating,\n",
    "    Family_Involvement_Icon AS Family_Rating,\n",
    "    Environment_Icon AS Environment_Rating,\n",
    "    Instruction_Icon AS Instruction_Rating,\n",
    "    Leaders_Icon AS Leaders_Rating,\n",
    "    Teachers_Icon AS Teachers_Rating\n",
    "FROM CHICAGO_PUBLIC_SCHOOLS;"
   ]
  },
  {
   "cell_type": "markdown",
   "id": "0725c67d-d8ab-4be1-8034-45488733e16b",
   "metadata": {},
   "source": [
    "> The query was executed in **Db2 Console → Run SQL**.  \n",
    "> Below is the result.\n",
    "\n",
    "Db2 Console confirmed that the view was successfully created *(Status = ✅)*."
   ]
  },
  {
   "cell_type": "markdown",
   "id": "e75e42e8-3bd1-4bc0-b15c-18766c96968d",
   "metadata": {},
   "source": [
    "![результат запроса](screens/view.png)"
   ]
  },
  {
   "cell_type": "markdown",
   "id": "c04c3a53-f4e0-4d33-836a-295fdbaae4c9",
   "metadata": {},
   "source": [
    "SQL query to return all columns from the view:"
   ]
  },
  {
   "cell_type": "raw",
   "id": "f7b2a467-9c33-4c02-904d-6c7fcac04acd",
   "metadata": {},
   "source": [
    "SELECT * FROM CHICAGO_PUB_SCHOOLS;"
   ]
  },
  {
   "cell_type": "markdown",
   "id": "852d7fff-0b41-45f7-b558-49396efb9ba8",
   "metadata": {},
   "source": [
    "**Result:**  \n",
    "A table with renamed fields (School_Name, Safety_Rating, Family_Rating, etc.).\n",
    "\n",
    "> **Column mapping (base table → view)**  \n",
    "\n",
    "| Source (`CHICAGO_PUBLIC_SCHOOLS` table) | In the `CHICAGO_PUB_SCHOOLS` view |\n",
    "|---|---|\n",
    "| `NAME_OF_SCHOOL` | `School_Name` |\n",
    "| `Leaders_Icon`   | `Leaders_Rating` |\n",
    "| `Safety_Icon`    | `Safety_Rating` |\n",
    "| `Family_Involvement_Icon` | `Family_Rating` |\n",
    "| `Environment_Icon` | `Environment_Rating` |\n",
    "| `Instruction_Icon` | `Instruction_Rating` |\n",
    "| `Teachers_Icon` | `Teachers_Rating` |\n",
    "\n",
    "> ℹ️ **Note:** in the original table the field **`Leaders_Icon`** is updated,  \n",
    "> while in the view it appears under the alias **`Leaders_Rating`**.\n"
   ]
  },
  {
   "cell_type": "markdown",
   "id": "6f6fb725-42b9-4c05-9dac-687fc3c804c1",
   "metadata": {},
   "source": [
    "![результат запроса](screens/view1.png)"
   ]
  },
  {
   "cell_type": "markdown",
   "id": "d11009e6-0b5f-4161-ba2a-f1873ffb66cc",
   "metadata": {},
   "source": [
    "SQL query that returns only the **school name** and the **leaders rating** from the view.\n"
   ]
  },
  {
   "cell_type": "raw",
   "id": "db6fe7ad-f064-422f-8909-4f89709ef005",
   "metadata": {},
   "source": [
    "SELECT School_Name, Leaders_Rating\n",
    "FROM CHICAGO_PUB_SCHOOLS;"
   ]
  },
  {
   "cell_type": "markdown",
   "id": "a410dd06-af12-47b5-92b4-b0e8bed8c1ad",
   "metadata": {},
   "source": [
    "Result: a list of schools with their leaders’ ratings.\n"
   ]
  },
  {
   "cell_type": "markdown",
   "id": "8d822e80-fa22-4d7e-90ab-01cd8671f7f4",
   "metadata": {},
   "source": [
    "![результат запроса](screens/view2.png)"
   ]
  },
  {
   "cell_type": "markdown",
   "id": "f01a1003-3886-4290-ab78-af91cbbc649d",
   "metadata": {},
   "source": [
    "***Conclusion***\n",
    "\n",
    "Using a VIEW allows you to:\n",
    "- simplify the table structure by assigning clear column names;\n",
    "- hide technical details of the database;\n",
    "- create selections with user-friendly fields for analysts and end-users.\n",
    "\n",
    "Thus, views make working with data easier and queries more readable.\n"
   ]
  },
  {
   "cell_type": "markdown",
   "id": "813b5cf4-a8bd-491c-8537-cd36722e9fea",
   "metadata": {},
   "source": [
    "## 4. Stored Procedure `UPDATE_LEADERS_SCORE`\n",
    "\n",
    "**Task:**  \n",
    "Create or replace the procedure `UPDATE_LEADERS_SCORE` with the following parameters:  \n",
    "- `in_School_ID` (INTEGER)  \n",
    "- `in_Leader_Score` (INTEGER)  \n",
    "\n",
    "Inside the procedure, an `IF` statement is used to update the `Leaders_Icon` field in the `CHICAGO_PUBLIC_SCHOOLS` table.\n",
    "\n",
    "**Details:**  \n",
    "- Before creating the procedure, the `SET TERMINATOR @` command is used.\n",
    "\n",
    "**Test:**  \n",
    "Calling `CALL UPDATE_LEADERS_SCORE(<School_ID>, 50)` should change the value to **AVERAGE**.\n",
    "\n"
   ]
  },
  {
   "cell_type": "raw",
   "id": "c7ef4f1c-a3d1-4e10-b88d-a80e22cf3ce4",
   "metadata": {},
   "source": [
    "--#SET TERMINATOR @\n",
    "CREATE OR REPLACE PROCEDURE UPDATE_LEADERS_SCORE (\n",
    "    IN in_School_ID INTEGER,\n",
    "    IN in_Leader_Score INTEGER\n",
    ")\n",
    "LANGUAGE SQL\n",
    "MODIFIES SQL DATA\n",
    "BEGIN\n",
    "    UPDATE CHICAGO_PUBLIC_SCHOOLS\n",
    "    SET Leaders_Score = in_Leader_Score\n",
    "    WHERE School_ID = in_School_ID;\n",
    "END\n",
    "@"
   ]
  },
  {
   "cell_type": "markdown",
   "id": "8a7666db-3d31-4365-afa5-c3dbb2117c3e",
   "metadata": {},
   "source": [
    "> The query was executed in the **external Db2 Console** → *Run SQL*.\n",
    "\n",
    "Db2 Console confirmed the successful creation of the procedure *(Status = ✅)*.\n"
   ]
  },
  {
   "cell_type": "markdown",
   "id": "e936183f-8274-45d6-9102-10290b471090",
   "metadata": {},
   "source": [
    "![результат запроса](screens/storage_procedure.png)"
   ]
  },
  {
   "cell_type": "markdown",
   "id": "aea1aa8c-e608-41ef-9ba7-1839c14cb3d3",
   "metadata": {},
   "source": [
    "***Db2 Console Interface***\n",
    "\n",
    "This is how the created procedure appears in the list of **Stored Procedures** along with its parameters.\n"
   ]
  },
  {
   "cell_type": "markdown",
   "id": "3ede6dd1-d69d-4b24-a77d-4e9fae5d9462",
   "metadata": {},
   "source": [
    "![результат запроса](screens/storage_proc1.png)"
   ]
  },
  {
   "cell_type": "markdown",
   "id": "f0d1e64a-1f15-4a40-b440-ea5baa3c3b17",
   "metadata": {},
   "source": [
    "***Adding Conditions with IF***\n",
    "\n",
    "To update the text field **Leaders_Icon** depending on the range of **in_Leader_Score**, the following code is used:\n"
   ]
  },
  {
   "cell_type": "raw",
   "id": "0c68ed0f-3f32-4031-9cb1-df314a838879",
   "metadata": {},
   "source": [
    "--#SET TERMINATOR @\n",
    "CREATE OR REPLACE PROCEDURE UPDATE_LEADERS_SCORE (\n",
    "    IN in_School_ID INTEGER,\n",
    "    IN in_Leader_Score INTEGER\n",
    ")\n",
    "LANGUAGE SQL\n",
    "MODIFIES SQL DATA\n",
    "BEGIN\n",
    "    IF in_Leader_Score BETWEEN 0 AND 19 THEN\n",
    "        UPDATE CHICAGO_PUBLIC_SCHOOLS\n",
    "        SET Leaders_Icon = 'Very weak'\n",
    "        WHERE School_ID = in_School_ID;\n",
    "\n",
    "    ELSEIF in_Leader_Score BETWEEN 20 AND 39 THEN\n",
    "        UPDATE CHICAGO_PUBLIC_SCHOOLS\n",
    "        SET Leaders_Icon = 'Weak'\n",
    "        WHERE School_ID = in_School_ID;\n",
    "\n",
    "    ELSEIF in_Leader_Score BETWEEN 40 AND 69 THEN\n",
    "        UPDATE CHICAGO_PUBLIC_SCHOOLS\n",
    "        SET Leaders_Icon = 'Average'\n",
    "        WHERE School_ID = in_School_ID;\n",
    "\n",
    "    ELSEIF in_Leader_Score BETWEEN 70 AND 89 THEN\n",
    "        UPDATE CHICAGO_PUBLIC_SCHOOLS\n",
    "        SET Leaders_Icon = 'Strong'\n",
    "        WHERE School_ID = in_School_ID;\n",
    "\n",
    "    ELSEIF in_Leader_Score BETWEEN 90 AND 99 THEN\n",
    "        UPDATE CHICAGO_PUBLIC_SCHOOLS\n",
    "        SET Leaders_Icon = 'Very strong'\n",
    "        WHERE School_ID = in_School_ID;\n",
    "    END IF;\n",
    "END\n",
    "@\n"
   ]
  },
  {
   "cell_type": "markdown",
   "id": "dc0785bf-9da9-400c-9681-3d5a2dae372c",
   "metadata": {},
   "source": [
    "After writing the code shown above, we executed it in **Db2 Console**.  \n",
    "The screenshot below shows the successful creation of the `UPDATE_LEADERS_SCORE` procedure with all added conditions and transaction support.\n"
   ]
  },
  {
   "cell_type": "markdown",
   "id": "8ee5b6c2-5362-4b94-935a-ba0693a07fbb",
   "metadata": {},
   "source": [
    "![результат запроса](screens/storage_proc2.png)"
   ]
  },
  {
   "cell_type": "markdown",
   "id": "73d2e32b-66ba-4bd6-aba1-991d0aae7706",
   "metadata": {},
   "source": [
    "***Procedure Check***\n",
    "\n",
    "Write a query to call the stored procedure, passing a valid school ID and a leader score of **50** to verify that the procedure works as expected.\n"
   ]
  },
  {
   "cell_type": "raw",
   "id": "3517ea30-0271-4712-bb5e-2b4905aa1902",
   "metadata": {},
   "source": [
    "CALL UPDATE_LEADERS_SCORE(610038, 50);\n"
   ]
  },
  {
   "cell_type": "markdown",
   "id": "9d9ef4ad-68a8-4717-8410-e5784ce019fa",
   "metadata": {},
   "source": [
    "![результат запроса](screens/storage_proc3.png)"
   ]
  },
  {
   "cell_type": "markdown",
   "id": "8ca0c8ee-6440-43cf-a511-dcf1f506839d",
   "metadata": {},
   "source": [
    "**Verification Result**\n"
   ]
  },
  {
   "cell_type": "raw",
   "id": "b52ab67e-354f-41fb-a714-aa87922332be",
   "metadata": {},
   "source": [
    "SELECT NAME_OF_SCHOOL, Leaders_Icon\n",
    "FROM CHICAGO_PUBLIC_SCHOOLS\n",
    "WHERE School_ID = 610038;\n"
   ]
  },
  {
   "cell_type": "markdown",
   "id": "103a16dc-1f3a-443a-bdd6-2767c484c838",
   "metadata": {},
   "source": [
    "After calling the procedure, we run a verification query to ensure that the changes were actually applied.  \n",
    "In the screenshot below, you can see that for **Abraham Lincoln Elementary School** the value of the `LEADERS_ICON` field has changed to *Average*.\n"
   ]
  },
  {
   "cell_type": "markdown",
   "id": "c1a89775-c676-4d5d-8534-99a0817dcc26",
   "metadata": {},
   "source": [
    "![результат запроса](screens/storage_proc4.png)"
   ]
  },
  {
   "cell_type": "markdown",
   "id": "14ec19e9-44a2-4e8d-a65f-a8d580e91c32",
   "metadata": {},
   "source": [
    "In the screenshot above, you can see that the `LEADERS_ICON` field for **Abraham Lincoln Elementary School** has changed to *Average*.\n",
    "\n",
    "**Conclusion:**  \n",
    "For **Abraham Lincoln Elementary School**, the `Leaders_Icon` field value changed to *AVERAGE* (previously *STRONG*).  \n",
    "This confirms that the procedure correctly updates leadership indicators based on the input score.  \n",
    "We now have a working procedure that can be applied to any school, making updates easier to automate and making data handling more reliable and scalable.\n"
   ]
  },
  {
   "cell_type": "markdown",
   "id": "a95f86d5-ba87-405f-b058-8fb6298dea1c",
   "metadata": {},
   "source": [
    "### 5. Using Transactions\n",
    "\n",
    "**Task:**  \n",
    "Refine the `UPDATE_LEADERS_SCORE` procedure by adding:  \n",
    "- a universal `ELSE` block that rolls back changes using `ROLLBACK`,  \n",
    "- a final transaction confirmation using `COMMIT`.\n",
    "\n",
    "**Tests:**  \n",
    "1. Call with a valid value (e.g., `38`) → the update succeeds.  \n",
    "2. Call with an invalid value (e.g., `101`) → `ROLLBACK` is triggered, no changes are applied.\n"
   ]
  },
  {
   "cell_type": "markdown",
   "id": "fb5e1d1e-eeeb-4256-b8dc-e8522cc6774d",
   "metadata": {},
   "source": [
    "**Input validation rules**\n",
    "- Allowed `in_Leader_Score` values: **0–99**.\n",
    "- If the value is out of range or `NULL`, the safeguard triggers: **`ROLLBACK`** (no changes applied).\n",
    "- A successful update is finalized with an explicit **`COMMIT`**.\n",
    "\n",
    "This guarantees the procedure won’t write invalid data and preserves table integrity.\n"
   ]
  },
  {
   "cell_type": "raw",
   "id": "6a54c9ce-c706-4390-aa8b-d09a25c12002",
   "metadata": {},
   "source": [
    "--#SET TERMINATOR @\n",
    "CREATE OR REPLACE PROCEDURE UPDATE_LEADERS_SCORE (\n",
    "    IN in_School_ID INTEGER,\n",
    "    IN in_Leader_Score INTEGER\n",
    ")\n",
    "LANGUAGE SQL\n",
    "MODIFIES SQL DATA\n",
    "BEGIN\n",
    "    IF in_Leader_Score BETWEEN 0 AND 19 THEN\n",
    "        UPDATE CHICAGO_PUBLIC_SCHOOLS\n",
    "        SET Leaders_Icon = 'Very weak'\n",
    "        WHERE School_ID = in_School_ID;\n",
    "\n",
    "    ELSEIF in_Leader_Score BETWEEN 20 AND 39 THEN\n",
    "        UPDATE CHICAGO_PUBLIC_SCHOOLS\n",
    "        SET Leaders_Icon = 'Weak'\n",
    "        WHERE School_ID = in_School_ID;\n",
    "\n",
    "    ELSEIF in_Leader_Score BETWEEN 40 AND 59 THEN\n",
    "        UPDATE CHICAGO_PUBLIC_SCHOOLS\n",
    "        SET Leaders_Icon = 'Average'\n",
    "        WHERE School_ID = in_School_ID;\n",
    "\n",
    "    ELSEIF in_Leader_Score BETWEEN 60 AND 79 THEN\n",
    "        UPDATE CHICAGO_PUBLIC_SCHOOLS\n",
    "        SET Leaders_Icon = 'Strong'\n",
    "        WHERE School_ID = in_School_ID;\n",
    "\n",
    "    ELSEIF in_Leader_Score BETWEEN 80 AND 99 THEN\n",
    "        UPDATE CHICAGO_PUBLIC_SCHOOLS\n",
    "        SET Leaders_Icon = 'Very strong'\n",
    "        WHERE School_ID = in_School_ID;\n",
    "\n",
    "    ELSE\n",
    "        ROLLBACK;\n",
    "    END IF;\n",
    "\n",
    "    COMMIT;\n",
    "END\n",
    "@\n"
   ]
  },
  {
   "cell_type": "markdown",
   "id": "505cbbc8-fa42-4cbe-8b2d-7eaf4c480855",
   "metadata": {},
   "source": [
    "Below is the full code of the `UPDATE_LEADERS_SCORE` stored procedure, including an `ELSE` block to roll back the transaction (`ROLLBACK`) and a final commit (`COMMIT`).\n",
    "\n",
    "After running the statement, Db2 Console confirms the procedure was created successfully:\n"
   ]
  },
  {
   "cell_type": "markdown",
   "id": "19916df3-55e4-493c-ad49-de5cdd3b2aeb",
   "metadata": {},
   "source": [
    "![результат запроса](screens/update_procedure.png)"
   ]
  },
  {
   "cell_type": "markdown",
   "id": "751d51db-6e89-4444-992d-7f9786faae9a",
   "metadata": {},
   "source": [
    "**Test 1.**  \n",
    "Run a query to verify that the updated stored procedure works as expected when we pass a valid score of **38**.\n"
   ]
  },
  {
   "cell_type": "markdown",
   "id": "b5539d4b-87ed-40a2-98b0-b1a50a7ac65b",
   "metadata": {},
   "source": [
    "![результат запроса](screens/update_proc1.png)"
   ]
  },
  {
   "cell_type": "markdown",
   "id": "d26ac4c9-f429-4763-b286-d7020d033a52",
   "metadata": {},
   "source": [
    "The procedure executed successfully *(Status = ✅)*.  \n",
    "Now let's check the `CHICAGO_PUBLIC_SCHOOLS` table to ensure that the `Leaders_Icon` field has been updated for the selected school.\n"
   ]
  },
  {
   "cell_type": "markdown",
   "id": "fddc3597-74e8-4b5c-abba-468dd9eda6c1",
   "metadata": {},
   "source": [
    "![результат запроса](screens/check1.png)"
   ]
  },
  {
   "cell_type": "markdown",
   "id": "5cdf088d-3328-4be1-b616-ab377f48b5b9",
   "metadata": {},
   "source": [
    "For **Abraham Lincoln Elementary School**, the value of the `LEADERS_ICON` field changed to **Weak** (previously **Average**).  \n",
    "This confirms that the procedure works correctly with a valid input value.\n"
   ]
  },
  {
   "cell_type": "markdown",
   "id": "e68444d2-c5c5-4171-ba7b-2c2deaa2f36c",
   "metadata": {},
   "source": [
    "**Test 2.**  \n",
    "Run another query to verify that the updated stored procedure behaves as expected when we use an **invalid score (101)**.\n"
   ]
  },
  {
   "cell_type": "markdown",
   "id": "af3a08c3-9efb-47aa-b3cb-40a51326ca97",
   "metadata": {},
   "source": [
    "![результат запроса](screens/update_proc2.png)"
   ]
  },
  {
   "cell_type": "markdown",
   "id": "7b9a020f-1d5f-4b56-a162-a6d105745863",
   "metadata": {},
   "source": [
    "The procedure executed successfully *(Status = ✅)*.  \n",
    "However, because the invalid score `101` was passed, the `ELSE` block with the transaction rollback (`ROLLBACK`) should have been triggered.  \n",
    "\n",
    "Now run a verification query to ensure that the data in the table has **not** changed.\n"
   ]
  },
  {
   "cell_type": "markdown",
   "id": "bd7f16dc-c570-4655-a213-c0979e0f56cb",
   "metadata": {},
   "source": [
    "![результат запроса](screens/check2.png)"
   ]
  },
  {
   "cell_type": "markdown",
   "id": "1ce1e5d9-85ce-4c0a-aacd-b30bbbd85071",
   "metadata": {},
   "source": [
    "The value of the `LEADERS_ICON` field at **Abraham Lincoln Elementary School** did **not** change (remained *Weak*),  \n",
    "because when an invalid score was passed, the `ELSE` block was triggered and the transaction was rolled back (**ROLLBACK**).\n"
   ]
  },
  {
   "cell_type": "markdown",
   "id": "22a8751a-3d17-45fd-85ff-a5e454a2d6ff",
   "metadata": {},
   "source": [
    "## Summary\n",
    "\n",
    "In Part III of the project, the key database operations were implemented and successfully tested:\n",
    "\n",
    "- **JOIN queries** were written to combine data from multiple tables.  \n",
    "- A **VIEW** was created to simplify access to frequently used fields.  \n",
    "- A **stored procedure** was developed and tested to update leadership scores.  \n",
    "- **Transaction control** with `ROLLBACK` and `COMMIT` was added to ensure data integrity.  \n",
    "\n",
    "All objects function correctly and are visible under the **Objects** tab in the Db2 Console.  \n",
    "This part of the project demonstrates not only SQL query skills but also the ability to design procedures with transaction control — an important step toward building reliable and scalable database solutions.\n",
    "\n"
   ]
  },
  {
   "cell_type": "markdown",
   "id": "aa28916b-5b96-48a6-b33e-3e5e7a4c7003",
   "metadata": {},
   "source": [
    "## How to Reproduce\n",
    "\n",
    "1. Open **Db2 Console → Run SQL** in your own Db2 on Cloud instance.\n",
    "2. Execute the DDL statements in the following order:\n",
    "   1) `CREATE VIEW CHICAGO_PUB_SCHOOLS ...`\n",
    "   2) `CREATE OR REPLACE PROCEDURE UPDATE_LEADERS_SCORE ...` (with `--#SET TERMINATOR @`)\n",
    "3. Test the procedure:\n",
    "   - **Positive scenario:**  \n",
    "     ```sql\n",
    "     CALL UPDATE_LEADERS_SCORE(610038, 38);\n",
    "     SELECT NAME_OF_SCHOOL, Leaders_Icon\n",
    "     FROM CHICAGO_PUBLIC_SCHOOLS\n",
    "     WHERE School_ID = 610038;\n",
    "     ```\n",
    "   - **Negative scenario (validation):**  \n",
    "     ```sql\n",
    "     CALL UPDATE_LEADERS_SCORE(610038, 101);\n",
    "     SELECT NAME_OF_SCHOOL, Leaders_Icon\n",
    "     FROM CHICAGO_PUBLIC_SCHOOLS\n",
    "     WHERE School_ID = 610038;\n",
    "     ```\n",
    "4. If needed, refresh the view or run `SELECT` on `CHICAGO_PUB_SCHOOLS` to see the aliased columns (`Leaders_Rating`, etc.).\n",
    "\n"
   ]
  },
  {
   "cell_type": "code",
   "execution_count": null,
   "id": "63a76e0a-f06b-4710-9a0c-f4035d9db40f",
   "metadata": {},
   "outputs": [],
   "source": []
  }
 ],
 "metadata": {
  "kernelspec": {
   "display_name": "Python 3 (ipykernel)",
   "language": "python",
   "name": "python3"
  },
  "language_info": {
   "codemirror_mode": {
    "name": "ipython",
    "version": 3
   },
   "file_extension": ".py",
   "mimetype": "text/x-python",
   "name": "python",
   "nbconvert_exporter": "python",
   "pygments_lexer": "ipython3",
   "version": "3.12.7"
  }
 },
 "nbformat": 4,
 "nbformat_minor": 5
}
